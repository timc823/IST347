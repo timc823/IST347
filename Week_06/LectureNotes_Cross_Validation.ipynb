{
 "cells": [
  {
   "cell_type": "code",
   "execution_count": 1,
   "metadata": {
    "executionInfo": {
     "elapsed": 718,
     "status": "ok",
     "timestamp": 1614237625504,
     "user": {
      "displayName": "Tim Chen",
      "photoUrl": "https://lh3.googleusercontent.com/a-/AOh14GibXfukGZsVHxyPtGfa_bTQemmI3kTdqpMrCzXHBA=s64",
      "userId": "16478278992786146906"
     },
     "user_tz": 480
    },
    "id": "usdew_aVdVRp"
   },
   "outputs": [],
   "source": [
    "import numpy as np\n",
    "import matplotlib.pyplot as plt\n",
    "import pandas as pd\n",
    "import seaborn as sns\n",
    "from sklearn.model_selection import train_test_split\n",
    "from sklearn.preprocessing import StandardScaler\n",
    "from sklearn.linear_model import Ridge\n",
    "from sklearn.model_selection import cross_val_score\n",
    "from sklearn.model_selection import cross_validate\n",
    "from sklearn import metrics\n",
    "%matplotlib inline"
   ]
  },
  {
   "cell_type": "markdown",
   "metadata": {
    "id": "tH99Z6Tvn5df"
   },
   "source": [
    "**When we don't have the validation dataset**"
   ]
  },
  {
   "cell_type": "code",
   "execution_count": 2,
   "metadata": {
    "executionInfo": {
     "elapsed": 714,
     "status": "ok",
     "timestamp": 1614237625505,
     "user": {
      "displayName": "Tim Chen",
      "photoUrl": "https://lh3.googleusercontent.com/a-/AOh14GibXfukGZsVHxyPtGfa_bTQemmI3kTdqpMrCzXHBA=s64",
      "userId": "16478278992786146906"
     },
     "user_tz": 480
    },
    "id": "wN6fwofFdZEN"
   },
   "outputs": [],
   "source": [
    "df = pd.read_csv('/content/drive/MyDrive/IST347/Week_6/Advertising.csv')\n",
    "X = df.drop('sales',axis=1)\n",
    "y = df.sales"
   ]
  },
  {
   "cell_type": "code",
   "execution_count": 3,
   "metadata": {
    "executionInfo": {
     "elapsed": 712,
     "status": "ok",
     "timestamp": 1614237625506,
     "user": {
      "displayName": "Tim Chen",
      "photoUrl": "https://lh3.googleusercontent.com/a-/AOh14GibXfukGZsVHxyPtGfa_bTQemmI3kTdqpMrCzXHBA=s64",
      "userId": "16478278992786146906"
     },
     "user_tz": 480
    },
    "id": "yEMipHPGdn_w"
   },
   "outputs": [],
   "source": [
    "X_train, X_test, y_train, y_test = train_test_split(X,y, test_size = 0.3, random_state =101)\n",
    "scaler = StandardScaler()\n",
    "scaled_X_train = scaler.fit_transform(X_train) # it is same as scaler.fit(X_train) first, then do the scaler.transform(X_test)\n",
    "scaled_X_test = scaler.transform(X_test);"
   ]
  },
  {
   "cell_type": "markdown",
   "metadata": {
    "id": "pH4cJzeNCiHg"
   },
   "source": [
    "Test with first alpha"
   ]
  },
  {
   "cell_type": "code",
   "execution_count": 4,
   "metadata": {
    "colab": {
     "base_uri": "https://localhost:8080/"
    },
    "executionInfo": {
     "elapsed": 692,
     "status": "ok",
     "timestamp": 1614237625507,
     "user": {
      "displayName": "Tim Chen",
      "photoUrl": "https://lh3.googleusercontent.com/a-/AOh14GibXfukGZsVHxyPtGfa_bTQemmI3kTdqpMrCzXHBA=s64",
      "userId": "16478278992786146906"
     },
     "user_tz": 480
    },
    "id": "cWcZKnnTnwmj",
    "outputId": "494d475c-8ff7-49ea-89f1-4e893f9b0c15"
   },
   "outputs": [
    {
     "data": {
      "text/plain": [
       "Ridge(alpha=100, copy_X=True, fit_intercept=True, max_iter=None,\n",
       "      normalize=False, random_state=None, solver='auto', tol=0.001)"
      ]
     },
     "execution_count": 4,
     "metadata": {
      "tags": []
     },
     "output_type": "execute_result"
    }
   ],
   "source": [
    "model = Ridge(alpha=100)\n",
    "model.fit(scaled_X_train, y_train)"
   ]
  },
  {
   "cell_type": "code",
   "execution_count": 5,
   "metadata": {
    "executionInfo": {
     "elapsed": 912,
     "status": "ok",
     "timestamp": 1614237625729,
     "user": {
      "displayName": "Tim Chen",
      "photoUrl": "https://lh3.googleusercontent.com/a-/AOh14GibXfukGZsVHxyPtGfa_bTQemmI3kTdqpMrCzXHBA=s64",
      "userId": "16478278992786146906"
     },
     "user_tz": 480
    },
    "id": "3I9zYiOQneoD"
   },
   "outputs": [],
   "source": [
    "y_pred = model.predict(scaled_X_test)"
   ]
  },
  {
   "cell_type": "code",
   "execution_count": 6,
   "metadata": {
    "colab": {
     "base_uri": "https://localhost:8080/"
    },
    "executionInfo": {
     "elapsed": 893,
     "status": "ok",
     "timestamp": 1614237625730,
     "user": {
      "displayName": "Tim Chen",
      "photoUrl": "https://lh3.googleusercontent.com/a-/AOh14GibXfukGZsVHxyPtGfa_bTQemmI3kTdqpMrCzXHBA=s64",
      "userId": "16478278992786146906"
     },
     "user_tz": 480
    },
    "id": "JO1ZcanQoDbY",
    "outputId": "5bca995f-02fb-401f-a411-308a4f403522"
   },
   "outputs": [
    {
     "data": {
      "text/plain": [
       "7.34177578903413"
      ]
     },
     "execution_count": 6,
     "metadata": {
      "tags": []
     },
     "output_type": "execute_result"
    }
   ],
   "source": [
    "metrics.mean_squared_error(y_test, y_pred)"
   ]
  },
  {
   "cell_type": "markdown",
   "metadata": {
    "id": "odlZtjAlCkP5"
   },
   "source": [
    "Because of the high error, test with a different alpha"
   ]
  },
  {
   "cell_type": "code",
   "execution_count": 7,
   "metadata": {
    "executionInfo": {
     "elapsed": 891,
     "status": "ok",
     "timestamp": 1614237625730,
     "user": {
      "displayName": "Tim Chen",
      "photoUrl": "https://lh3.googleusercontent.com/a-/AOh14GibXfukGZsVHxyPtGfa_bTQemmI3kTdqpMrCzXHBA=s64",
      "userId": "16478278992786146906"
     },
     "user_tz": 480
    },
    "id": "Ozui2Er0nmUR"
   },
   "outputs": [],
   "source": [
    "model2 = Ridge(alpha=1)"
   ]
  },
  {
   "cell_type": "code",
   "execution_count": 8,
   "metadata": {
    "colab": {
     "base_uri": "https://localhost:8080/"
    },
    "executionInfo": {
     "elapsed": 872,
     "status": "ok",
     "timestamp": 1614237625731,
     "user": {
      "displayName": "Tim Chen",
      "photoUrl": "https://lh3.googleusercontent.com/a-/AOh14GibXfukGZsVHxyPtGfa_bTQemmI3kTdqpMrCzXHBA=s64",
      "userId": "16478278992786146906"
     },
     "user_tz": 480
    },
    "id": "DSEkiBi9n1J0",
    "outputId": "6c9c0054-90ac-42b8-dc74-f6f3ab8c06b3"
   },
   "outputs": [
    {
     "data": {
      "text/plain": [
       "Ridge(alpha=1, copy_X=True, fit_intercept=True, max_iter=None, normalize=False,\n",
       "      random_state=None, solver='auto', tol=0.001)"
      ]
     },
     "execution_count": 8,
     "metadata": {
      "tags": []
     },
     "output_type": "execute_result"
    }
   ],
   "source": [
    "model2.fit(scaled_X_train,y_train)"
   ]
  },
  {
   "cell_type": "code",
   "execution_count": 9,
   "metadata": {
    "executionInfo": {
     "elapsed": 870,
     "status": "ok",
     "timestamp": 1614237625731,
     "user": {
      "displayName": "Tim Chen",
      "photoUrl": "https://lh3.googleusercontent.com/a-/AOh14GibXfukGZsVHxyPtGfa_bTQemmI3kTdqpMrCzXHBA=s64",
      "userId": "16478278992786146906"
     },
     "user_tz": 480
    },
    "id": "icOBr8Xbn2Jd"
   },
   "outputs": [],
   "source": [
    "y_pred2 = model2.predict(scaled_X_test)"
   ]
  },
  {
   "cell_type": "code",
   "execution_count": 10,
   "metadata": {
    "colab": {
     "base_uri": "https://localhost:8080/"
    },
    "executionInfo": {
     "elapsed": 852,
     "status": "ok",
     "timestamp": 1614237625732,
     "user": {
      "displayName": "Tim Chen",
      "photoUrl": "https://lh3.googleusercontent.com/a-/AOh14GibXfukGZsVHxyPtGfa_bTQemmI3kTdqpMrCzXHBA=s64",
      "userId": "16478278992786146906"
     },
     "user_tz": 480
    },
    "id": "KGkEWFOTn3Ri",
    "outputId": "81d50d1f-b518-424c-b8e8-f3d37e31f022"
   },
   "outputs": [
    {
     "data": {
      "text/plain": [
       "2.319021579428752"
      ]
     },
     "execution_count": 10,
     "metadata": {
      "tags": []
     },
     "output_type": "execute_result"
    }
   ],
   "source": [
    "metrics.mean_squared_error(y_test, y_pred2)"
   ]
  },
  {
   "cell_type": "markdown",
   "metadata": {
    "id": "5zHWlmpln912"
   },
   "source": [
    "In this case, when we see the model1 creates a 7.34 error rate, we felt it's too high. Then we changed the alpha to 1 to try if there's a lower error. Therefore, some people would argue that you create a data leakage because you test the test dataset to get the lowest error. That's why we need to create a validation dataset before we apply the model to test dataset."
   ]
  },
  {
   "cell_type": "markdown",
   "metadata": {
    "id": "QbDZ9RpDopL5"
   },
   "source": [
    "**Create the validation dataset before test**"
   ]
  },
  {
   "cell_type": "code",
   "execution_count": 11,
   "metadata": {
    "executionInfo": {
     "elapsed": 850,
     "status": "ok",
     "timestamp": 1614237625732,
     "user": {
      "displayName": "Tim Chen",
      "photoUrl": "https://lh3.googleusercontent.com/a-/AOh14GibXfukGZsVHxyPtGfa_bTQemmI3kTdqpMrCzXHBA=s64",
      "userId": "16478278992786146906"
     },
     "user_tz": 480
    },
    "id": "ig10kFWtoo5b"
   },
   "outputs": [],
   "source": [
    "df2 = pd.read_csv('/content/drive/MyDrive/IST347/Week_6/Advertising.csv')\n",
    "X2 = df2.drop('sales',axis=1)\n",
    "y2 = df2.sales"
   ]
  },
  {
   "cell_type": "markdown",
   "metadata": {
    "id": "SYadwH-ICsiF"
   },
   "source": [
    "To create a validation dataset, we only need to do train_test_split twice"
   ]
  },
  {
   "cell_type": "code",
   "execution_count": 12,
   "metadata": {
    "executionInfo": {
     "elapsed": 849,
     "status": "ok",
     "timestamp": 1614237625733,
     "user": {
      "displayName": "Tim Chen",
      "photoUrl": "https://lh3.googleusercontent.com/a-/AOh14GibXfukGZsVHxyPtGfa_bTQemmI3kTdqpMrCzXHBA=s64",
      "userId": "16478278992786146906"
     },
     "user_tz": 480
    },
    "id": "6oPqCvron4jy"
   },
   "outputs": [],
   "source": [
    "X_train_v, X_rem, y_train_v, y_rem = train_test_split(X2, y2,test_size = 0.3, random_state =101) #break dataset to 70-30 (train & remain)"
   ]
  },
  {
   "cell_type": "code",
   "execution_count": 13,
   "metadata": {
    "executionInfo": {
     "elapsed": 847,
     "status": "ok",
     "timestamp": 1614237625733,
     "user": {
      "displayName": "Tim Chen",
      "photoUrl": "https://lh3.googleusercontent.com/a-/AOh14GibXfukGZsVHxyPtGfa_bTQemmI3kTdqpMrCzXHBA=s64",
      "userId": "16478278992786146906"
     },
     "user_tz": 480
    },
    "id": "JkUI1RVyo23R"
   },
   "outputs": [],
   "source": [
    "X_valid, X_test_v, y_valid, y_test_v= train_test_split(X_rem, y_rem,test_size = 0.5, random_state =101) # break remain 50-50"
   ]
  },
  {
   "cell_type": "code",
   "execution_count": 14,
   "metadata": {
    "colab": {
     "base_uri": "https://localhost:8080/"
    },
    "executionInfo": {
     "elapsed": 828,
     "status": "ok",
     "timestamp": 1614237625734,
     "user": {
      "displayName": "Tim Chen",
      "photoUrl": "https://lh3.googleusercontent.com/a-/AOh14GibXfukGZsVHxyPtGfa_bTQemmI3kTdqpMrCzXHBA=s64",
      "userId": "16478278992786146906"
     },
     "user_tz": 480
    },
    "id": "t3Ece8hao581",
    "outputId": "a593093e-2636-4e5e-c726-66b2b336e069"
   },
   "outputs": [
    {
     "name": "stdout",
     "output_type": "stream",
     "text": [
      "[200, 140, 30, 30]\n"
     ]
    }
   ],
   "source": [
    "#check the len of different dataset\n",
    "# percentage should be [1, 0.7, 0.15,0.15]\n",
    "L = [len(X2), len(X_train_v), len(X_valid), len(X_test_v)]\n",
    "print(L)"
   ]
  },
  {
   "cell_type": "code",
   "execution_count": 15,
   "metadata": {
    "executionInfo": {
     "elapsed": 826,
     "status": "ok",
     "timestamp": 1614237625734,
     "user": {
      "displayName": "Tim Chen",
      "photoUrl": "https://lh3.googleusercontent.com/a-/AOh14GibXfukGZsVHxyPtGfa_bTQemmI3kTdqpMrCzXHBA=s64",
      "userId": "16478278992786146906"
     },
     "user_tz": 480
    },
    "id": "8Tn7WJjPpGTw"
   },
   "outputs": [],
   "source": [
    "# create a scaler function\n",
    "scaler_v = StandardScaler()"
   ]
  },
  {
   "cell_type": "code",
   "execution_count": 16,
   "metadata": {
    "executionInfo": {
     "elapsed": 824,
     "status": "ok",
     "timestamp": 1614237625734,
     "user": {
      "displayName": "Tim Chen",
      "photoUrl": "https://lh3.googleusercontent.com/a-/AOh14GibXfukGZsVHxyPtGfa_bTQemmI3kTdqpMrCzXHBA=s64",
      "userId": "16478278992786146906"
     },
     "user_tz": 480
    },
    "id": "Ye-iP7DApPeU"
   },
   "outputs": [],
   "source": [
    "# scale three training dataset\n",
    "scaled_X_train_v = scaler_v.fit_transform(X_train_v) #only use scale from X_train, then transform all datasets\n",
    "scaled_X_valid = scaler_v.transform(X_valid)\n",
    "scaled_X_test_v = scaler_v.transform(X_test_v)"
   ]
  },
  {
   "cell_type": "markdown",
   "metadata": {
    "id": "OEXC5SSzDCQ8"
   },
   "source": [
    "Fit training set with first alpha"
   ]
  },
  {
   "cell_type": "code",
   "execution_count": 17,
   "metadata": {
    "colab": {
     "base_uri": "https://localhost:8080/"
    },
    "executionInfo": {
     "elapsed": 805,
     "status": "ok",
     "timestamp": 1614237625735,
     "user": {
      "displayName": "Tim Chen",
      "photoUrl": "https://lh3.googleusercontent.com/a-/AOh14GibXfukGZsVHxyPtGfa_bTQemmI3kTdqpMrCzXHBA=s64",
      "userId": "16478278992786146906"
     },
     "user_tz": 480
    },
    "id": "oNMMvpvhpWSO",
    "outputId": "cf451319-b11c-4830-88de-cc6c704f27d3"
   },
   "outputs": [
    {
     "data": {
      "text/plain": [
       "Ridge(alpha=100, copy_X=True, fit_intercept=True, max_iter=None,\n",
       "      normalize=False, random_state=None, solver='auto', tol=0.001)"
      ]
     },
     "execution_count": 17,
     "metadata": {
      "tags": []
     },
     "output_type": "execute_result"
    }
   ],
   "source": [
    "model_v1 = Ridge(alpha=100)\n",
    "model_v1.fit(scaled_X_train_v, y_train_v)"
   ]
  },
  {
   "cell_type": "markdown",
   "metadata": {
    "id": "khzbRA2tDMjK"
   },
   "source": [
    "Predict on **Validation** dataset"
   ]
  },
  {
   "cell_type": "code",
   "execution_count": 18,
   "metadata": {
    "colab": {
     "base_uri": "https://localhost:8080/"
    },
    "executionInfo": {
     "elapsed": 988,
     "status": "ok",
     "timestamp": 1614237625937,
     "user": {
      "displayName": "Tim Chen",
      "photoUrl": "https://lh3.googleusercontent.com/a-/AOh14GibXfukGZsVHxyPtGfa_bTQemmI3kTdqpMrCzXHBA=s64",
      "userId": "16478278992786146906"
     },
     "user_tz": 480
    },
    "id": "DPR678UhpaGM",
    "outputId": "78b0c115-d70c-41c5-ca23-95561c604ffc"
   },
   "outputs": [
    {
     "data": {
      "text/plain": [
       "7.320101458823871"
      ]
     },
     "execution_count": 18,
     "metadata": {
      "tags": []
     },
     "output_type": "execute_result"
    }
   ],
   "source": [
    "y_pred_valid_v1 = model_v1.predict(scaled_X_valid)\n",
    "metrics.mean_squared_error(y_valid,y_pred_valid_v1)"
   ]
  },
  {
   "cell_type": "markdown",
   "metadata": {
    "id": "pRunttYoDQ3N"
   },
   "source": [
    "Fit training set with second alpha"
   ]
  },
  {
   "cell_type": "code",
   "execution_count": 19,
   "metadata": {
    "colab": {
     "base_uri": "https://localhost:8080/"
    },
    "executionInfo": {
     "elapsed": 968,
     "status": "ok",
     "timestamp": 1614237625937,
     "user": {
      "displayName": "Tim Chen",
      "photoUrl": "https://lh3.googleusercontent.com/a-/AOh14GibXfukGZsVHxyPtGfa_bTQemmI3kTdqpMrCzXHBA=s64",
      "userId": "16478278992786146906"
     },
     "user_tz": 480
    },
    "id": "L_wXoV6ZpgI6",
    "outputId": "d1f04e7a-cdbe-4f43-aeee-15ac6290882b"
   },
   "outputs": [
    {
     "data": {
      "text/plain": [
       "Ridge(alpha=1, copy_X=True, fit_intercept=True, max_iter=None, normalize=False,\n",
       "      random_state=None, solver='auto', tol=0.001)"
      ]
     },
     "execution_count": 19,
     "metadata": {
      "tags": []
     },
     "output_type": "execute_result"
    }
   ],
   "source": [
    "model_v2 = Ridge(alpha=1)\n",
    "model_v2.fit(scaled_X_train_v, y_train_v)"
   ]
  },
  {
   "cell_type": "markdown",
   "metadata": {
    "id": "0LW2ZMFzDUHY"
   },
   "source": [
    "Predict on **Validation** dataset"
   ]
  },
  {
   "cell_type": "code",
   "execution_count": 20,
   "metadata": {
    "colab": {
     "base_uri": "https://localhost:8080/"
    },
    "executionInfo": {
     "elapsed": 950,
     "status": "ok",
     "timestamp": 1614237625938,
     "user": {
      "displayName": "Tim Chen",
      "photoUrl": "https://lh3.googleusercontent.com/a-/AOh14GibXfukGZsVHxyPtGfa_bTQemmI3kTdqpMrCzXHBA=s64",
      "userId": "16478278992786146906"
     },
     "user_tz": 480
    },
    "id": "6tiQ7XZ7pppg",
    "outputId": "16294f40-3df7-42ff-df43-eca0dfa10903"
   },
   "outputs": [
    {
     "data": {
      "text/plain": [
       "2.383783075056986"
      ]
     },
     "execution_count": 20,
     "metadata": {
      "tags": []
     },
     "output_type": "execute_result"
    }
   ],
   "source": [
    "y_pred_valid_v2 = model_v2.predict(scaled_X_valid)\n",
    "metrics.mean_squared_error(y_valid,y_pred_valid_v2)"
   ]
  },
  {
   "cell_type": "markdown",
   "metadata": {
    "id": "zFv_jFM4tTDE"
   },
   "source": [
    "In this case, let's assume we are happy with the result from the validation dataset. Then, we can apply this model to the test dataset, which never being seen."
   ]
  },
  {
   "cell_type": "markdown",
   "metadata": {
    "id": "swffkfMQtvMs"
   },
   "source": [
    "**Apply the prediction model on the test dataset**"
   ]
  },
  {
   "cell_type": "code",
   "execution_count": 21,
   "metadata": {
    "colab": {
     "base_uri": "https://localhost:8080/"
    },
    "executionInfo": {
     "elapsed": 931,
     "status": "ok",
     "timestamp": 1614237625938,
     "user": {
      "displayName": "Tim Chen",
      "photoUrl": "https://lh3.googleusercontent.com/a-/AOh14GibXfukGZsVHxyPtGfa_bTQemmI3kTdqpMrCzXHBA=s64",
      "userId": "16478278992786146906"
     },
     "user_tz": 480
    },
    "id": "waDwPCP5smjK",
    "outputId": "4e7035ee-e6e5-4877-c0bf-5d4d91e88b5f"
   },
   "outputs": [
    {
     "data": {
      "text/plain": [
       "2.2542600838005176"
      ]
     },
     "execution_count": 21,
     "metadata": {
      "tags": []
     },
     "output_type": "execute_result"
    }
   ],
   "source": [
    "y_pred_final = model_v2.predict(scaled_X_test_v)\n",
    "metrics.mean_squared_error(y_test_v,y_pred_final)"
   ]
  },
  {
   "cell_type": "markdown",
   "metadata": {
    "id": "13TMKhAsuYb8"
   },
   "source": [
    "Now, we can say this prediction is good because no one see the test data until we do it in line 23! "
   ]
  },
  {
   "cell_type": "markdown",
   "metadata": {
    "id": "pCsj_23yu2tE"
   },
   "source": [
    "**K-Fold Cross validation**"
   ]
  },
  {
   "cell_type": "markdown",
   "metadata": {
    "id": "0oU8yuAkvCHB"
   },
   "source": [
    "To fairly train on the training dataset, not only some part of it by random selection, we should to a cross validation"
   ]
  },
  {
   "cell_type": "markdown",
   "metadata": {
    "id": "6atR83eJDuvn"
   },
   "source": [
    "K-Fold model 1, alpha = 100"
   ]
  },
  {
   "cell_type": "code",
   "execution_count": 22,
   "metadata": {
    "executionInfo": {
     "elapsed": 930,
     "status": "ok",
     "timestamp": 1614237625939,
     "user": {
      "displayName": "Tim Chen",
      "photoUrl": "https://lh3.googleusercontent.com/a-/AOh14GibXfukGZsVHxyPtGfa_bTQemmI3kTdqpMrCzXHBA=s64",
      "userId": "16478278992786146906"
     },
     "user_tz": 480
    },
    "id": "79ic7W0ZuD8-"
   },
   "outputs": [],
   "source": [
    "model_KF_1 = Ridge(alpha=100)"
   ]
  },
  {
   "cell_type": "code",
   "execution_count": 23,
   "metadata": {
    "executionInfo": {
     "elapsed": 928,
     "status": "ok",
     "timestamp": 1614237625939,
     "user": {
      "displayName": "Tim Chen",
      "photoUrl": "https://lh3.googleusercontent.com/a-/AOh14GibXfukGZsVHxyPtGfa_bTQemmI3kTdqpMrCzXHBA=s64",
      "userId": "16478278992786146906"
     },
     "user_tz": 480
    },
    "id": "GEyfQhdyvejn"
   },
   "outputs": [],
   "source": [
    "score_KF_1 = cross_val_score(model_KF_1, scaled_X_train_v, y_train_v, cv = 5, scoring = 'neg_mean_squared_error' )"
   ]
  },
  {
   "cell_type": "code",
   "execution_count": 24,
   "metadata": {
    "colab": {
     "base_uri": "https://localhost:8080/"
    },
    "executionInfo": {
     "elapsed": 910,
     "status": "ok",
     "timestamp": 1614237625940,
     "user": {
      "displayName": "Tim Chen",
      "photoUrl": "https://lh3.googleusercontent.com/a-/AOh14GibXfukGZsVHxyPtGfa_bTQemmI3kTdqpMrCzXHBA=s64",
      "userId": "16478278992786146906"
     },
     "user_tz": 480
    },
    "id": "ru7Nn66mvjL-",
    "outputId": "46e6fa99-e40a-4ec7-9fe2-6ae1061461e3"
   },
   "outputs": [
    {
     "data": {
      "text/plain": [
       "8.215396464543606"
      ]
     },
     "execution_count": 24,
     "metadata": {
      "tags": []
     },
     "output_type": "execute_result"
    }
   ],
   "source": [
    "abs(score_KF_1.mean())"
   ]
  },
  {
   "cell_type": "markdown",
   "metadata": {
    "id": "Xyvatb6xDynA"
   },
   "source": [
    "K-Fold model 2, alpha = 100"
   ]
  },
  {
   "cell_type": "code",
   "execution_count": 25,
   "metadata": {
    "executionInfo": {
     "elapsed": 908,
     "status": "ok",
     "timestamp": 1614237625940,
     "user": {
      "displayName": "Tim Chen",
      "photoUrl": "https://lh3.googleusercontent.com/a-/AOh14GibXfukGZsVHxyPtGfa_bTQemmI3kTdqpMrCzXHBA=s64",
      "userId": "16478278992786146906"
     },
     "user_tz": 480
    },
    "id": "guv5wFtWv0Hh"
   },
   "outputs": [],
   "source": [
    "model_KF_2 = Ridge(alpha=1)"
   ]
  },
  {
   "cell_type": "code",
   "execution_count": 26,
   "metadata": {
    "executionInfo": {
     "elapsed": 907,
     "status": "ok",
     "timestamp": 1614237625941,
     "user": {
      "displayName": "Tim Chen",
      "photoUrl": "https://lh3.googleusercontent.com/a-/AOh14GibXfukGZsVHxyPtGfa_bTQemmI3kTdqpMrCzXHBA=s64",
      "userId": "16478278992786146906"
     },
     "user_tz": 480
    },
    "id": "CoB55pwHv4Pi"
   },
   "outputs": [],
   "source": [
    "score_KF_2 = cross_val_score(model_KF_2, scaled_X_train_v, y_train_v, cv = 5, scoring = 'neg_mean_squared_error' )"
   ]
  },
  {
   "cell_type": "code",
   "execution_count": 27,
   "metadata": {
    "colab": {
     "base_uri": "https://localhost:8080/"
    },
    "executionInfo": {
     "elapsed": 888,
     "status": "ok",
     "timestamp": 1614237625941,
     "user": {
      "displayName": "Tim Chen",
      "photoUrl": "https://lh3.googleusercontent.com/a-/AOh14GibXfukGZsVHxyPtGfa_bTQemmI3kTdqpMrCzXHBA=s64",
      "userId": "16478278992786146906"
     },
     "user_tz": 480
    },
    "id": "e-utWUgrwHqC",
    "outputId": "bd5ed1e4-a940-4cb7-a1de-b8737d8cccc7"
   },
   "outputs": [
    {
     "data": {
      "text/plain": [
       "3.344839296530695"
      ]
     },
     "execution_count": 27,
     "metadata": {
      "tags": []
     },
     "output_type": "execute_result"
    }
   ],
   "source": [
    "abs(score_KF_2.mean()) "
   ]
  },
  {
   "cell_type": "markdown",
   "metadata": {
    "id": "47zeh9GowK1s"
   },
   "source": [
    "If you are happy with the model cross validation, fit it to train dataset\n"
   ]
  },
  {
   "cell_type": "code",
   "execution_count": 28,
   "metadata": {
    "colab": {
     "base_uri": "https://localhost:8080/"
    },
    "executionInfo": {
     "elapsed": 869,
     "status": "ok",
     "timestamp": 1614237625941,
     "user": {
      "displayName": "Tim Chen",
      "photoUrl": "https://lh3.googleusercontent.com/a-/AOh14GibXfukGZsVHxyPtGfa_bTQemmI3kTdqpMrCzXHBA=s64",
      "userId": "16478278992786146906"
     },
     "user_tz": 480
    },
    "id": "sCItGpt_wIz3",
    "outputId": "cfe3894c-8515-4bfc-eadc-267159d6386e"
   },
   "outputs": [
    {
     "data": {
      "text/plain": [
       "Ridge(alpha=1, copy_X=True, fit_intercept=True, max_iter=None, normalize=False,\n",
       "      random_state=None, solver='auto', tol=0.001)"
      ]
     },
     "execution_count": 28,
     "metadata": {
      "tags": []
     },
     "output_type": "execute_result"
    }
   ],
   "source": [
    "#Because KF model never fit the dataset before. Fit dataset to the final model, then predict on test dataset\n",
    "model_KF_2.fit(scaled_X_train_v, y_train_v)"
   ]
  },
  {
   "cell_type": "code",
   "execution_count": 29,
   "metadata": {
    "colab": {
     "base_uri": "https://localhost:8080/"
    },
    "executionInfo": {
     "elapsed": 857,
     "status": "ok",
     "timestamp": 1614237625942,
     "user": {
      "displayName": "Tim Chen",
      "photoUrl": "https://lh3.googleusercontent.com/a-/AOh14GibXfukGZsVHxyPtGfa_bTQemmI3kTdqpMrCzXHBA=s64",
      "userId": "16478278992786146906"
     },
     "user_tz": 480
    },
    "id": "gq5tmGBuwWF7",
    "outputId": "7311f69b-4d93-45eb-bbf7-01f07b2894fe"
   },
   "outputs": [
    {
     "data": {
      "text/plain": [
       "2.2542600838005176"
      ]
     },
     "execution_count": 29,
     "metadata": {
      "tags": []
     },
     "output_type": "execute_result"
    }
   ],
   "source": [
    "y_pred_final_2 = model_KF_2.predict(scaled_X_test_v)\n",
    "metrics.mean_squared_error(y_test_v, y_pred_final_2)"
   ]
  },
  {
   "cell_type": "markdown",
   "metadata": {
    "id": "bW_KmD100TMb"
   },
   "source": [
    "**Cross Validation**"
   ]
  },
  {
   "cell_type": "code",
   "execution_count": 30,
   "metadata": {
    "executionInfo": {
     "elapsed": 855,
     "status": "ok",
     "timestamp": 1614237625942,
     "user": {
      "displayName": "Tim Chen",
      "photoUrl": "https://lh3.googleusercontent.com/a-/AOh14GibXfukGZsVHxyPtGfa_bTQemmI3kTdqpMrCzXHBA=s64",
      "userId": "16478278992786146906"
     },
     "user_tz": 480
    },
    "id": "QcJI0qjDA-pH"
   },
   "outputs": [],
   "source": [
    "model_CV = Ridge(alpha = 100)"
   ]
  },
  {
   "cell_type": "code",
   "execution_count": 31,
   "metadata": {
    "executionInfo": {
     "elapsed": 985,
     "status": "ok",
     "timestamp": 1614237626074,
     "user": {
      "displayName": "Tim Chen",
      "photoUrl": "https://lh3.googleusercontent.com/a-/AOh14GibXfukGZsVHxyPtGfa_bTQemmI3kTdqpMrCzXHBA=s64",
      "userId": "16478278992786146906"
     },
     "user_tz": 480
    },
    "id": "a_WLkXSxxwvJ"
   },
   "outputs": [],
   "source": [
    "scores_KV = cross_validate(model_CV, scaled_X_train_v, y_train_v,  scoring=['neg_mean_squared_error','neg_mean_absolute_error'])"
   ]
  },
  {
   "cell_type": "code",
   "execution_count": 32,
   "metadata": {
    "colab": {
     "base_uri": "https://localhost:8080/"
    },
    "executionInfo": {
     "elapsed": 974,
     "status": "ok",
     "timestamp": 1614237626075,
     "user": {
      "displayName": "Tim Chen",
      "photoUrl": "https://lh3.googleusercontent.com/a-/AOh14GibXfukGZsVHxyPtGfa_bTQemmI3kTdqpMrCzXHBA=s64",
      "userId": "16478278992786146906"
     },
     "user_tz": 480
    },
    "id": "SvOZ6X4p0a-1",
    "outputId": "877151da-5d96-4a06-e67f-7637a026aa4c"
   },
   "outputs": [
    {
     "data": {
      "text/plain": [
       "{'fit_time': array([0.00206518, 0.00177288, 0.00082994, 0.00196195, 0.00162578]),\n",
       " 'score_time': array([0.00430202, 0.00140119, 0.00061393, 0.00201726, 0.00060964]),\n",
       " 'test_neg_mean_absolute_error': array([-2.31243044, -1.74653361, -2.56211701, -2.01873159, -2.27951906]),\n",
       " 'test_neg_mean_squared_error': array([ -9.32552967,  -4.9449624 , -11.39665242,  -7.0242106 ,\n",
       "         -8.38562723])}"
      ]
     },
     "execution_count": 32,
     "metadata": {
      "tags": []
     },
     "output_type": "execute_result"
    }
   ],
   "source": [
    "scores_KV"
   ]
  },
  {
   "cell_type": "code",
   "execution_count": 33,
   "metadata": {
    "colab": {
     "base_uri": "https://localhost:8080/",
     "height": 204
    },
    "executionInfo": {
     "elapsed": 956,
     "status": "ok",
     "timestamp": 1614237626076,
     "user": {
      "displayName": "Tim Chen",
      "photoUrl": "https://lh3.googleusercontent.com/a-/AOh14GibXfukGZsVHxyPtGfa_bTQemmI3kTdqpMrCzXHBA=s64",
      "userId": "16478278992786146906"
     },
     "user_tz": 480
    },
    "id": "VLtRx0Oo0fEZ",
    "outputId": "99b5a6d3-90b1-40df-8bb1-eae1a81a3a9c"
   },
   "outputs": [
    {
     "data": {
      "text/html": [
       "<div>\n",
       "<style scoped>\n",
       "    .dataframe tbody tr th:only-of-type {\n",
       "        vertical-align: middle;\n",
       "    }\n",
       "\n",
       "    .dataframe tbody tr th {\n",
       "        vertical-align: top;\n",
       "    }\n",
       "\n",
       "    .dataframe thead th {\n",
       "        text-align: right;\n",
       "    }\n",
       "</style>\n",
       "<table border=\"1\" class=\"dataframe\">\n",
       "  <thead>\n",
       "    <tr style=\"text-align: right;\">\n",
       "      <th></th>\n",
       "      <th>fit_time</th>\n",
       "      <th>score_time</th>\n",
       "      <th>test_neg_mean_squared_error</th>\n",
       "      <th>test_neg_mean_absolute_error</th>\n",
       "    </tr>\n",
       "  </thead>\n",
       "  <tbody>\n",
       "    <tr>\n",
       "      <th>0</th>\n",
       "      <td>0.002065</td>\n",
       "      <td>0.004302</td>\n",
       "      <td>-9.325530</td>\n",
       "      <td>-2.312430</td>\n",
       "    </tr>\n",
       "    <tr>\n",
       "      <th>1</th>\n",
       "      <td>0.001773</td>\n",
       "      <td>0.001401</td>\n",
       "      <td>-4.944962</td>\n",
       "      <td>-1.746534</td>\n",
       "    </tr>\n",
       "    <tr>\n",
       "      <th>2</th>\n",
       "      <td>0.000830</td>\n",
       "      <td>0.000614</td>\n",
       "      <td>-11.396652</td>\n",
       "      <td>-2.562117</td>\n",
       "    </tr>\n",
       "    <tr>\n",
       "      <th>3</th>\n",
       "      <td>0.001962</td>\n",
       "      <td>0.002017</td>\n",
       "      <td>-7.024211</td>\n",
       "      <td>-2.018732</td>\n",
       "    </tr>\n",
       "    <tr>\n",
       "      <th>4</th>\n",
       "      <td>0.001626</td>\n",
       "      <td>0.000610</td>\n",
       "      <td>-8.385627</td>\n",
       "      <td>-2.279519</td>\n",
       "    </tr>\n",
       "  </tbody>\n",
       "</table>\n",
       "</div>"
      ],
      "text/plain": [
       "   fit_time  ...  test_neg_mean_absolute_error\n",
       "0  0.002065  ...                     -2.312430\n",
       "1  0.001773  ...                     -1.746534\n",
       "2  0.000830  ...                     -2.562117\n",
       "3  0.001962  ...                     -2.018732\n",
       "4  0.001626  ...                     -2.279519\n",
       "\n",
       "[5 rows x 4 columns]"
      ]
     },
     "execution_count": 33,
     "metadata": {
      "tags": []
     },
     "output_type": "execute_result"
    }
   ],
   "source": [
    "score = pd.DataFrame(data= scores_KV)\n",
    "score"
   ]
  }
 ],
 "metadata": {
  "colab": {
   "authorship_tag": "ABX9TyPYUPnlczyKZFPW0ljIoPE0",
   "collapsed_sections": [],
   "mount_file_id": "1wgDBM3YOB9OqkP_CfNbhgByYrgDbcEOV",
   "name": "LectureNotes_Cross_Validation.ipynb",
   "provenance": []
  },
  "kernelspec": {
   "display_name": "Python 3",
   "language": "python",
   "name": "python3"
  },
  "language_info": {
   "codemirror_mode": {
    "name": "ipython",
    "version": 3
   },
   "file_extension": ".py",
   "mimetype": "text/x-python",
   "name": "python",
   "nbconvert_exporter": "python",
   "pygments_lexer": "ipython3",
   "version": "3.8.10"
  }
 },
 "nbformat": 4,
 "nbformat_minor": 1
}
