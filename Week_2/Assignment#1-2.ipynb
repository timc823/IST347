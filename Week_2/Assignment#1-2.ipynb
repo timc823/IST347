{
  "nbformat": 4,
  "nbformat_minor": 0,
  "metadata": {
    "colab": {
      "name": "Assignment#1-2.ipynb",
      "provenance": [],
      "collapsed_sections": []
    },
    "kernelspec": {
      "name": "python3",
      "display_name": "Python 3"
    }
  },
  "cells": [
    {
      "cell_type": "code",
      "metadata": {
        "id": "AJ0sQADqxeuM"
      },
      "source": [
        "import pandas as pd\n",
        "import seaborn as sns\n",
        "import matplotlib.pyplot as plt\n",
        "pd.set_option('mode.chained_assignment', None) # remove the wierd SettingwithCopyWarning here\n",
        "%matplotlib inline"
      ],
      "execution_count": null,
      "outputs": []
    },
    {
      "cell_type": "markdown",
      "metadata": {
        "id": "-aGsuZFKx0YT"
      },
      "source": [
        "Step 1: Correct Missing values"
      ]
    },
    {
      "cell_type": "code",
      "metadata": {
        "colab": {
          "base_uri": "https://localhost:8080/",
          "height": 241
        },
        "id": "raBA4lb2xo42",
        "outputId": "3fd148de-f484-480e-db98-b81ec0f57b3c"
      },
      "source": [
        "df = pd.read_csv('/content/drive/MyDrive/IST347_Machine-Learning-in-Healthcare/Week_2/Assignment#1_Part2_Online_Activity.csv')\n",
        "df.head()"
      ],
      "execution_count": null,
      "outputs": [
        {
          "output_type": "execute_result",
          "data": {
            "text/html": [
              "<div>\n",
              "<style scoped>\n",
              "    .dataframe tbody tr th:only-of-type {\n",
              "        vertical-align: middle;\n",
              "    }\n",
              "\n",
              "    .dataframe tbody tr th {\n",
              "        vertical-align: top;\n",
              "    }\n",
              "\n",
              "    .dataframe thead th {\n",
              "        text-align: right;\n",
              "    }\n",
              "</style>\n",
              "<table border=\"1\" class=\"dataframe\">\n",
              "  <thead>\n",
              "    <tr style=\"text-align: right;\">\n",
              "      <th></th>\n",
              "      <th>Gender</th>\n",
              "      <th>Race</th>\n",
              "      <th>Birth_Year</th>\n",
              "      <th>Marital_Status</th>\n",
              "      <th>Years_on_Internet</th>\n",
              "      <th>Hours_Per_Day</th>\n",
              "      <th>Preferred_Browser</th>\n",
              "      <th>Preferred_Search_Engine</th>\n",
              "      <th>Preferred_Email</th>\n",
              "      <th>Read_News</th>\n",
              "      <th>Online_Shopping</th>\n",
              "      <th>Online_Gaming</th>\n",
              "      <th>Facebook</th>\n",
              "      <th>Twitter</th>\n",
              "      <th>Other_Social_Network</th>\n",
              "    </tr>\n",
              "  </thead>\n",
              "  <tbody>\n",
              "    <tr>\n",
              "      <th>0</th>\n",
              "      <td>M</td>\n",
              "      <td>White</td>\n",
              "      <td>1972</td>\n",
              "      <td>M</td>\n",
              "      <td>8</td>\n",
              "      <td>1</td>\n",
              "      <td>Firefox</td>\n",
              "      <td>Google</td>\n",
              "      <td>Yahoo</td>\n",
              "      <td>Y</td>\n",
              "      <td>N</td>\n",
              "      <td>N</td>\n",
              "      <td>Y</td>\n",
              "      <td>N</td>\n",
              "      <td>NaN</td>\n",
              "    </tr>\n",
              "    <tr>\n",
              "      <th>1</th>\n",
              "      <td>M</td>\n",
              "      <td>Hispanic</td>\n",
              "      <td>1981</td>\n",
              "      <td>S</td>\n",
              "      <td>14</td>\n",
              "      <td>2</td>\n",
              "      <td>Chrome</td>\n",
              "      <td>Google</td>\n",
              "      <td>Hotmail</td>\n",
              "      <td>Y</td>\n",
              "      <td>N</td>\n",
              "      <td>N</td>\n",
              "      <td>Y</td>\n",
              "      <td>N</td>\n",
              "      <td>NaN</td>\n",
              "    </tr>\n",
              "    <tr>\n",
              "      <th>2</th>\n",
              "      <td>F</td>\n",
              "      <td>African American</td>\n",
              "      <td>1977</td>\n",
              "      <td>S</td>\n",
              "      <td>6</td>\n",
              "      <td>2</td>\n",
              "      <td>Firefox</td>\n",
              "      <td>Yahoo</td>\n",
              "      <td>Yahoo</td>\n",
              "      <td>Y</td>\n",
              "      <td>Y</td>\n",
              "      <td>NaN</td>\n",
              "      <td>Y</td>\n",
              "      <td>N</td>\n",
              "      <td>NaN</td>\n",
              "    </tr>\n",
              "    <tr>\n",
              "      <th>3</th>\n",
              "      <td>F</td>\n",
              "      <td>White</td>\n",
              "      <td>1961</td>\n",
              "      <td>D</td>\n",
              "      <td>8</td>\n",
              "      <td>6</td>\n",
              "      <td>Firefox</td>\n",
              "      <td>Google</td>\n",
              "      <td>Hotmail</td>\n",
              "      <td>N</td>\n",
              "      <td>Y</td>\n",
              "      <td>N</td>\n",
              "      <td>N</td>\n",
              "      <td>Y</td>\n",
              "      <td>NaN</td>\n",
              "    </tr>\n",
              "    <tr>\n",
              "      <th>4</th>\n",
              "      <td>M</td>\n",
              "      <td>White</td>\n",
              "      <td>1954</td>\n",
              "      <td>M</td>\n",
              "      <td>2</td>\n",
              "      <td>3</td>\n",
              "      <td>Internet Explorer</td>\n",
              "      <td>Bing</td>\n",
              "      <td>Hotmail</td>\n",
              "      <td>Y</td>\n",
              "      <td>Y</td>\n",
              "      <td>N</td>\n",
              "      <td>Y</td>\n",
              "      <td>N</td>\n",
              "      <td>NaN</td>\n",
              "    </tr>\n",
              "  </tbody>\n",
              "</table>\n",
              "</div>"
            ],
            "text/plain": [
              "  Gender              Race  Birth_Year  ... Facebook  Twitter  Other_Social_Network\n",
              "0      M             White        1972  ...        Y        N                   NaN\n",
              "1      M          Hispanic        1981  ...        Y        N                   NaN\n",
              "2      F  African American        1977  ...        Y        N                   NaN\n",
              "3      F             White        1961  ...        N        Y                   NaN\n",
              "4      M             White        1954  ...        Y        N                   NaN\n",
              "\n",
              "[5 rows x 15 columns]"
            ]
          },
          "metadata": {
            "tags": []
          },
          "execution_count": 2
        }
      ]
    },
    {
      "cell_type": "markdown",
      "metadata": {
        "id": "YUCbYZmezxer"
      },
      "source": [
        "b.\tDescribe the dataset and provide \n"
      ]
    },
    {
      "cell_type": "code",
      "metadata": {
        "colab": {
          "base_uri": "https://localhost:8080/"
        },
        "id": "1IMDZbFExwqy",
        "outputId": "0d3fdccb-e296-4cfb-b830-c71635267b55"
      },
      "source": [
        "df.describe"
      ],
      "execution_count": null,
      "outputs": [
        {
          "output_type": "execute_result",
          "data": {
            "text/plain": [
              "<bound method NDFrame.describe of    Gender              Race  Birth_Year  ... Facebook  Twitter  Other_Social_Network\n",
              "0       M             White        1972  ...        Y        N                   NaN\n",
              "1       M          Hispanic        1981  ...        Y        N                   NaN\n",
              "2       F  African American        1977  ...        Y        N                   NaN\n",
              "3       F             White        1961  ...        N        Y                   NaN\n",
              "4       M             White        1954  ...        Y        N                   NaN\n",
              "5       M  African American        1982  ...        N        N                   NaN\n",
              "6       M  African American        1981  ...        Y        Y              LinkedIn\n",
              "7       M             White        1977  ...        Y       99              LinkedIn\n",
              "8       F  African American        1969  ...        N        N                   NaN\n",
              "9       M             White        1987  ...        Y        N               MySpace\n",
              "10      F          Hispanic        1959  ...        Y        N               Google+\n",
              "\n",
              "[11 rows x 15 columns]>"
            ]
          },
          "metadata": {
            "tags": []
          },
          "execution_count": 3
        }
      ]
    },
    {
      "cell_type": "markdown",
      "metadata": {
        "id": "YZ4_sM24z1DM"
      },
      "source": [
        "•\tnumber of rows/columns, "
      ]
    },
    {
      "cell_type": "code",
      "metadata": {
        "colab": {
          "base_uri": "https://localhost:8080/"
        },
        "id": "aiAgSDdmx5ya",
        "outputId": "95a2a352-fef9-4d84-a7ff-9fe1086a53bd"
      },
      "source": [
        "df.shape\n"
      ],
      "execution_count": null,
      "outputs": [
        {
          "output_type": "execute_result",
          "data": {
            "text/plain": [
              "(11, 15)"
            ]
          },
          "metadata": {
            "tags": []
          },
          "execution_count": 4
        }
      ]
    },
    {
      "cell_type": "markdown",
      "metadata": {
        "id": "yLoFxS6Dz2yp"
      },
      "source": [
        "•\tdata type"
      ]
    },
    {
      "cell_type": "code",
      "metadata": {
        "colab": {
          "base_uri": "https://localhost:8080/"
        },
        "id": "u5YHwlPEx7Nf",
        "outputId": "98235e89-138b-40fc-d6e1-9ddcdf160ef4"
      },
      "source": [
        "df.dtypes"
      ],
      "execution_count": null,
      "outputs": [
        {
          "output_type": "execute_result",
          "data": {
            "text/plain": [
              "Gender                     object\n",
              "Race                       object\n",
              "Birth_Year                  int64\n",
              "Marital_Status             object\n",
              "Years_on_Internet           int64\n",
              "Hours_Per_Day               int64\n",
              "Preferred_Browser          object\n",
              "Preferred_Search_Engine    object\n",
              "Preferred_Email            object\n",
              "Read_News                  object\n",
              "Online_Shopping            object\n",
              "Online_Gaming              object\n",
              "Facebook                   object\n",
              "Twitter                    object\n",
              "Other_Social_Network       object\n",
              "dtype: object"
            ]
          },
          "metadata": {
            "tags": []
          },
          "execution_count": 5
        }
      ]
    },
    {
      "cell_type": "markdown",
      "metadata": {
        "id": "-M7J_gmJz41l"
      },
      "source": [
        "•\tattribute columns\t\t "
      ]
    },
    {
      "cell_type": "code",
      "metadata": {
        "colab": {
          "base_uri": "https://localhost:8080/"
        },
        "id": "xmjF7VqWx-tw",
        "outputId": "108c040e-0972-4aaa-bcad-d33655b4024b"
      },
      "source": [
        "df.columns"
      ],
      "execution_count": null,
      "outputs": [
        {
          "output_type": "execute_result",
          "data": {
            "text/plain": [
              "Index(['Gender', 'Race', 'Birth_Year', 'Marital_Status', 'Years_on_Internet',\n",
              "       'Hours_Per_Day', 'Preferred_Browser', 'Preferred_Search_Engine',\n",
              "       'Preferred_Email', 'Read_News', 'Online_Shopping', 'Online_Gaming',\n",
              "       'Facebook', 'Twitter', 'Other_Social_Network'],\n",
              "      dtype='object')"
            ]
          },
          "metadata": {
            "tags": []
          },
          "execution_count": 6
        }
      ]
    },
    {
      "cell_type": "markdown",
      "metadata": {
        "id": "lnHvT-2Kz_ua"
      },
      "source": [
        "c.\tReplace the attribute “Online_Gaming“ missing value as “N”"
      ]
    },
    {
      "cell_type": "code",
      "metadata": {
        "colab": {
          "base_uri": "https://localhost:8080/"
        },
        "id": "W0TV8tS2yBhw",
        "outputId": "852eb1d5-e9c5-4903-8d1b-6c3aa97665f3"
      },
      "source": [
        "df.isna().sum()"
      ],
      "execution_count": null,
      "outputs": [
        {
          "output_type": "execute_result",
          "data": {
            "text/plain": [
              "Gender                     0\n",
              "Race                       0\n",
              "Birth_Year                 0\n",
              "Marital_Status             0\n",
              "Years_on_Internet          0\n",
              "Hours_Per_Day              0\n",
              "Preferred_Browser          0\n",
              "Preferred_Search_Engine    0\n",
              "Preferred_Email            0\n",
              "Read_News                  1\n",
              "Online_Shopping            2\n",
              "Online_Gaming              3\n",
              "Facebook                   0\n",
              "Twitter                    0\n",
              "Other_Social_Network       7\n",
              "dtype: int64"
            ]
          },
          "metadata": {
            "tags": []
          },
          "execution_count": 7
        }
      ]
    },
    {
      "cell_type": "code",
      "metadata": {
        "id": "kZeExkByyePv"
      },
      "source": [
        "df.Online_Gaming = df.Online_Gaming.fillna('N')\n"
      ],
      "execution_count": null,
      "outputs": []
    },
    {
      "cell_type": "code",
      "metadata": {
        "colab": {
          "base_uri": "https://localhost:8080/"
        },
        "id": "TMSVo70cyno6",
        "outputId": "1e42e631-438c-40cf-adc3-ddccb493cd36"
      },
      "source": [
        "df.isna().sum()"
      ],
      "execution_count": null,
      "outputs": [
        {
          "output_type": "execute_result",
          "data": {
            "text/plain": [
              "Gender                     0\n",
              "Race                       0\n",
              "Birth_Year                 0\n",
              "Marital_Status             0\n",
              "Years_on_Internet          0\n",
              "Hours_Per_Day              0\n",
              "Preferred_Browser          0\n",
              "Preferred_Search_Engine    0\n",
              "Preferred_Email            0\n",
              "Read_News                  1\n",
              "Online_Shopping            2\n",
              "Online_Gaming              0\n",
              "Facebook                   0\n",
              "Twitter                    0\n",
              "Other_Social_Network       7\n",
              "dtype: int64"
            ]
          },
          "metadata": {
            "tags": []
          },
          "execution_count": 9
        }
      ]
    },
    {
      "cell_type": "markdown",
      "metadata": {
        "id": "ByvXp-Tt1c4Z"
      },
      "source": [
        "Step 2: Data Reduction: \n",
        "Remove only those rows with missing values in online_shopping\n"
      ]
    },
    {
      "cell_type": "code",
      "metadata": {
        "colab": {
          "base_uri": "https://localhost:8080/",
          "height": 416
        },
        "id": "0Smfqp5sysI1",
        "outputId": "7f7967ff-cd23-4a4c-e36f-1c6014265176"
      },
      "source": [
        "df.dropna(how='any',subset=['Online_Shopping'],inplace=True)\n",
        "df"
      ],
      "execution_count": null,
      "outputs": [
        {
          "output_type": "execute_result",
          "data": {
            "text/html": [
              "<div>\n",
              "<style scoped>\n",
              "    .dataframe tbody tr th:only-of-type {\n",
              "        vertical-align: middle;\n",
              "    }\n",
              "\n",
              "    .dataframe tbody tr th {\n",
              "        vertical-align: top;\n",
              "    }\n",
              "\n",
              "    .dataframe thead th {\n",
              "        text-align: right;\n",
              "    }\n",
              "</style>\n",
              "<table border=\"1\" class=\"dataframe\">\n",
              "  <thead>\n",
              "    <tr style=\"text-align: right;\">\n",
              "      <th></th>\n",
              "      <th>Gender</th>\n",
              "      <th>Race</th>\n",
              "      <th>Birth_Year</th>\n",
              "      <th>Marital_Status</th>\n",
              "      <th>Years_on_Internet</th>\n",
              "      <th>Hours_Per_Day</th>\n",
              "      <th>Preferred_Browser</th>\n",
              "      <th>Preferred_Search_Engine</th>\n",
              "      <th>Preferred_Email</th>\n",
              "      <th>Read_News</th>\n",
              "      <th>Online_Shopping</th>\n",
              "      <th>Online_Gaming</th>\n",
              "      <th>Facebook</th>\n",
              "      <th>Twitter</th>\n",
              "      <th>Other_Social_Network</th>\n",
              "    </tr>\n",
              "  </thead>\n",
              "  <tbody>\n",
              "    <tr>\n",
              "      <th>0</th>\n",
              "      <td>M</td>\n",
              "      <td>White</td>\n",
              "      <td>1972</td>\n",
              "      <td>M</td>\n",
              "      <td>8</td>\n",
              "      <td>1</td>\n",
              "      <td>Firefox</td>\n",
              "      <td>Google</td>\n",
              "      <td>Yahoo</td>\n",
              "      <td>Y</td>\n",
              "      <td>N</td>\n",
              "      <td>N</td>\n",
              "      <td>Y</td>\n",
              "      <td>N</td>\n",
              "      <td>NaN</td>\n",
              "    </tr>\n",
              "    <tr>\n",
              "      <th>1</th>\n",
              "      <td>M</td>\n",
              "      <td>Hispanic</td>\n",
              "      <td>1981</td>\n",
              "      <td>S</td>\n",
              "      <td>14</td>\n",
              "      <td>2</td>\n",
              "      <td>Chrome</td>\n",
              "      <td>Google</td>\n",
              "      <td>Hotmail</td>\n",
              "      <td>Y</td>\n",
              "      <td>N</td>\n",
              "      <td>N</td>\n",
              "      <td>Y</td>\n",
              "      <td>N</td>\n",
              "      <td>NaN</td>\n",
              "    </tr>\n",
              "    <tr>\n",
              "      <th>2</th>\n",
              "      <td>F</td>\n",
              "      <td>African American</td>\n",
              "      <td>1977</td>\n",
              "      <td>S</td>\n",
              "      <td>6</td>\n",
              "      <td>2</td>\n",
              "      <td>Firefox</td>\n",
              "      <td>Yahoo</td>\n",
              "      <td>Yahoo</td>\n",
              "      <td>Y</td>\n",
              "      <td>Y</td>\n",
              "      <td>N</td>\n",
              "      <td>Y</td>\n",
              "      <td>N</td>\n",
              "      <td>NaN</td>\n",
              "    </tr>\n",
              "    <tr>\n",
              "      <th>3</th>\n",
              "      <td>F</td>\n",
              "      <td>White</td>\n",
              "      <td>1961</td>\n",
              "      <td>D</td>\n",
              "      <td>8</td>\n",
              "      <td>6</td>\n",
              "      <td>Firefox</td>\n",
              "      <td>Google</td>\n",
              "      <td>Hotmail</td>\n",
              "      <td>N</td>\n",
              "      <td>Y</td>\n",
              "      <td>N</td>\n",
              "      <td>N</td>\n",
              "      <td>Y</td>\n",
              "      <td>NaN</td>\n",
              "    </tr>\n",
              "    <tr>\n",
              "      <th>4</th>\n",
              "      <td>M</td>\n",
              "      <td>White</td>\n",
              "      <td>1954</td>\n",
              "      <td>M</td>\n",
              "      <td>2</td>\n",
              "      <td>3</td>\n",
              "      <td>Internet Explorer</td>\n",
              "      <td>Bing</td>\n",
              "      <td>Hotmail</td>\n",
              "      <td>Y</td>\n",
              "      <td>Y</td>\n",
              "      <td>N</td>\n",
              "      <td>Y</td>\n",
              "      <td>N</td>\n",
              "      <td>NaN</td>\n",
              "    </tr>\n",
              "    <tr>\n",
              "      <th>5</th>\n",
              "      <td>M</td>\n",
              "      <td>African American</td>\n",
              "      <td>1982</td>\n",
              "      <td>D</td>\n",
              "      <td>15</td>\n",
              "      <td>4</td>\n",
              "      <td>Internet Explorer</td>\n",
              "      <td>Google</td>\n",
              "      <td>Yahoo</td>\n",
              "      <td>Y</td>\n",
              "      <td>N</td>\n",
              "      <td>Y</td>\n",
              "      <td>N</td>\n",
              "      <td>N</td>\n",
              "      <td>NaN</td>\n",
              "    </tr>\n",
              "    <tr>\n",
              "      <th>6</th>\n",
              "      <td>M</td>\n",
              "      <td>African American</td>\n",
              "      <td>1981</td>\n",
              "      <td>D</td>\n",
              "      <td>11</td>\n",
              "      <td>2</td>\n",
              "      <td>Firefox</td>\n",
              "      <td>Google</td>\n",
              "      <td>Yahoo</td>\n",
              "      <td>NaN</td>\n",
              "      <td>Y</td>\n",
              "      <td>N</td>\n",
              "      <td>Y</td>\n",
              "      <td>Y</td>\n",
              "      <td>LinkedIn</td>\n",
              "    </tr>\n",
              "    <tr>\n",
              "      <th>8</th>\n",
              "      <td>F</td>\n",
              "      <td>African American</td>\n",
              "      <td>1969</td>\n",
              "      <td>M</td>\n",
              "      <td>6</td>\n",
              "      <td>2</td>\n",
              "      <td>Firefox</td>\n",
              "      <td>Google</td>\n",
              "      <td>Gmail</td>\n",
              "      <td>N</td>\n",
              "      <td>Y</td>\n",
              "      <td>N</td>\n",
              "      <td>N</td>\n",
              "      <td>N</td>\n",
              "      <td>NaN</td>\n",
              "    </tr>\n",
              "    <tr>\n",
              "      <th>10</th>\n",
              "      <td>F</td>\n",
              "      <td>Hispanic</td>\n",
              "      <td>1959</td>\n",
              "      <td>D</td>\n",
              "      <td>12</td>\n",
              "      <td>5</td>\n",
              "      <td>Chrome</td>\n",
              "      <td>Google</td>\n",
              "      <td>Gmail</td>\n",
              "      <td>Y</td>\n",
              "      <td>N</td>\n",
              "      <td>N</td>\n",
              "      <td>Y</td>\n",
              "      <td>N</td>\n",
              "      <td>Google+</td>\n",
              "    </tr>\n",
              "  </tbody>\n",
              "</table>\n",
              "</div>"
            ],
            "text/plain": [
              "   Gender              Race  Birth_Year  ... Facebook  Twitter  Other_Social_Network\n",
              "0       M             White        1972  ...        Y        N                   NaN\n",
              "1       M          Hispanic        1981  ...        Y        N                   NaN\n",
              "2       F  African American        1977  ...        Y        N                   NaN\n",
              "3       F             White        1961  ...        N        Y                   NaN\n",
              "4       M             White        1954  ...        Y        N                   NaN\n",
              "5       M  African American        1982  ...        N        N                   NaN\n",
              "6       M  African American        1981  ...        Y        Y              LinkedIn\n",
              "8       F  African American        1969  ...        N        N                   NaN\n",
              "10      F          Hispanic        1959  ...        Y        N               Google+\n",
              "\n",
              "[9 rows x 15 columns]"
            ]
          },
          "metadata": {
            "tags": []
          },
          "execution_count": 10
        }
      ]
    },
    {
      "cell_type": "markdown",
      "metadata": {
        "id": "E0sB2FzP2A1f"
      },
      "source": [
        "Step 3: Replace Invalid Data:\n",
        "Replace 99 with 'N' in 'Twitter'\n"
      ]
    },
    {
      "cell_type": "code",
      "metadata": {
        "colab": {
          "base_uri": "https://localhost:8080/"
        },
        "id": "mob0x7YJCJhP",
        "outputId": "c73fda16-943a-4196-9dfb-55be42978d73"
      },
      "source": [
        "df['Twitter'] == 'N'"
      ],
      "execution_count": null,
      "outputs": [
        {
          "output_type": "execute_result",
          "data": {
            "text/plain": [
              "0      True\n",
              "1      True\n",
              "2      True\n",
              "3     False\n",
              "4      True\n",
              "5      True\n",
              "6     False\n",
              "8      True\n",
              "10     True\n",
              "Name: Twitter, dtype: bool"
            ]
          },
          "metadata": {
            "tags": []
          },
          "execution_count": 11
        }
      ]
    },
    {
      "cell_type": "code",
      "metadata": {
        "colab": {
          "base_uri": "https://localhost:8080/",
          "height": 416
        },
        "id": "Ru6YHiTk0MbJ",
        "outputId": "1a94a3e5-89fd-4619-e22f-a3a757369e1c"
      },
      "source": [
        "#df.Twitter = df.Twitter.replace('N',99)\n",
        "df.loc[df['Twitter'] == 99,'Twitter'] = 'N'  # run this again, misunderstand prompt\n",
        "df"
      ],
      "execution_count": null,
      "outputs": [
        {
          "output_type": "execute_result",
          "data": {
            "text/html": [
              "<div>\n",
              "<style scoped>\n",
              "    .dataframe tbody tr th:only-of-type {\n",
              "        vertical-align: middle;\n",
              "    }\n",
              "\n",
              "    .dataframe tbody tr th {\n",
              "        vertical-align: top;\n",
              "    }\n",
              "\n",
              "    .dataframe thead th {\n",
              "        text-align: right;\n",
              "    }\n",
              "</style>\n",
              "<table border=\"1\" class=\"dataframe\">\n",
              "  <thead>\n",
              "    <tr style=\"text-align: right;\">\n",
              "      <th></th>\n",
              "      <th>Gender</th>\n",
              "      <th>Race</th>\n",
              "      <th>Birth_Year</th>\n",
              "      <th>Marital_Status</th>\n",
              "      <th>Years_on_Internet</th>\n",
              "      <th>Hours_Per_Day</th>\n",
              "      <th>Preferred_Browser</th>\n",
              "      <th>Preferred_Search_Engine</th>\n",
              "      <th>Preferred_Email</th>\n",
              "      <th>Read_News</th>\n",
              "      <th>Online_Shopping</th>\n",
              "      <th>Online_Gaming</th>\n",
              "      <th>Facebook</th>\n",
              "      <th>Twitter</th>\n",
              "      <th>Other_Social_Network</th>\n",
              "    </tr>\n",
              "  </thead>\n",
              "  <tbody>\n",
              "    <tr>\n",
              "      <th>0</th>\n",
              "      <td>M</td>\n",
              "      <td>White</td>\n",
              "      <td>1972</td>\n",
              "      <td>M</td>\n",
              "      <td>8</td>\n",
              "      <td>1</td>\n",
              "      <td>Firefox</td>\n",
              "      <td>Google</td>\n",
              "      <td>Yahoo</td>\n",
              "      <td>Y</td>\n",
              "      <td>N</td>\n",
              "      <td>N</td>\n",
              "      <td>Y</td>\n",
              "      <td>N</td>\n",
              "      <td>NaN</td>\n",
              "    </tr>\n",
              "    <tr>\n",
              "      <th>1</th>\n",
              "      <td>M</td>\n",
              "      <td>Hispanic</td>\n",
              "      <td>1981</td>\n",
              "      <td>S</td>\n",
              "      <td>14</td>\n",
              "      <td>2</td>\n",
              "      <td>Chrome</td>\n",
              "      <td>Google</td>\n",
              "      <td>Hotmail</td>\n",
              "      <td>Y</td>\n",
              "      <td>N</td>\n",
              "      <td>N</td>\n",
              "      <td>Y</td>\n",
              "      <td>N</td>\n",
              "      <td>NaN</td>\n",
              "    </tr>\n",
              "    <tr>\n",
              "      <th>2</th>\n",
              "      <td>F</td>\n",
              "      <td>African American</td>\n",
              "      <td>1977</td>\n",
              "      <td>S</td>\n",
              "      <td>6</td>\n",
              "      <td>2</td>\n",
              "      <td>Firefox</td>\n",
              "      <td>Yahoo</td>\n",
              "      <td>Yahoo</td>\n",
              "      <td>Y</td>\n",
              "      <td>Y</td>\n",
              "      <td>N</td>\n",
              "      <td>Y</td>\n",
              "      <td>N</td>\n",
              "      <td>NaN</td>\n",
              "    </tr>\n",
              "    <tr>\n",
              "      <th>3</th>\n",
              "      <td>F</td>\n",
              "      <td>White</td>\n",
              "      <td>1961</td>\n",
              "      <td>D</td>\n",
              "      <td>8</td>\n",
              "      <td>6</td>\n",
              "      <td>Firefox</td>\n",
              "      <td>Google</td>\n",
              "      <td>Hotmail</td>\n",
              "      <td>N</td>\n",
              "      <td>Y</td>\n",
              "      <td>N</td>\n",
              "      <td>N</td>\n",
              "      <td>Y</td>\n",
              "      <td>NaN</td>\n",
              "    </tr>\n",
              "    <tr>\n",
              "      <th>4</th>\n",
              "      <td>M</td>\n",
              "      <td>White</td>\n",
              "      <td>1954</td>\n",
              "      <td>M</td>\n",
              "      <td>2</td>\n",
              "      <td>3</td>\n",
              "      <td>Internet Explorer</td>\n",
              "      <td>Bing</td>\n",
              "      <td>Hotmail</td>\n",
              "      <td>Y</td>\n",
              "      <td>Y</td>\n",
              "      <td>N</td>\n",
              "      <td>Y</td>\n",
              "      <td>N</td>\n",
              "      <td>NaN</td>\n",
              "    </tr>\n",
              "    <tr>\n",
              "      <th>5</th>\n",
              "      <td>M</td>\n",
              "      <td>African American</td>\n",
              "      <td>1982</td>\n",
              "      <td>D</td>\n",
              "      <td>15</td>\n",
              "      <td>4</td>\n",
              "      <td>Internet Explorer</td>\n",
              "      <td>Google</td>\n",
              "      <td>Yahoo</td>\n",
              "      <td>Y</td>\n",
              "      <td>N</td>\n",
              "      <td>Y</td>\n",
              "      <td>N</td>\n",
              "      <td>N</td>\n",
              "      <td>NaN</td>\n",
              "    </tr>\n",
              "    <tr>\n",
              "      <th>6</th>\n",
              "      <td>M</td>\n",
              "      <td>African American</td>\n",
              "      <td>1981</td>\n",
              "      <td>D</td>\n",
              "      <td>11</td>\n",
              "      <td>2</td>\n",
              "      <td>Firefox</td>\n",
              "      <td>Google</td>\n",
              "      <td>Yahoo</td>\n",
              "      <td>NaN</td>\n",
              "      <td>Y</td>\n",
              "      <td>N</td>\n",
              "      <td>Y</td>\n",
              "      <td>Y</td>\n",
              "      <td>LinkedIn</td>\n",
              "    </tr>\n",
              "    <tr>\n",
              "      <th>8</th>\n",
              "      <td>F</td>\n",
              "      <td>African American</td>\n",
              "      <td>1969</td>\n",
              "      <td>M</td>\n",
              "      <td>6</td>\n",
              "      <td>2</td>\n",
              "      <td>Firefox</td>\n",
              "      <td>Google</td>\n",
              "      <td>Gmail</td>\n",
              "      <td>N</td>\n",
              "      <td>Y</td>\n",
              "      <td>N</td>\n",
              "      <td>N</td>\n",
              "      <td>N</td>\n",
              "      <td>NaN</td>\n",
              "    </tr>\n",
              "    <tr>\n",
              "      <th>10</th>\n",
              "      <td>F</td>\n",
              "      <td>Hispanic</td>\n",
              "      <td>1959</td>\n",
              "      <td>D</td>\n",
              "      <td>12</td>\n",
              "      <td>5</td>\n",
              "      <td>Chrome</td>\n",
              "      <td>Google</td>\n",
              "      <td>Gmail</td>\n",
              "      <td>Y</td>\n",
              "      <td>N</td>\n",
              "      <td>N</td>\n",
              "      <td>Y</td>\n",
              "      <td>N</td>\n",
              "      <td>Google+</td>\n",
              "    </tr>\n",
              "  </tbody>\n",
              "</table>\n",
              "</div>"
            ],
            "text/plain": [
              "   Gender              Race  Birth_Year  ... Facebook  Twitter  Other_Social_Network\n",
              "0       M             White        1972  ...        Y        N                   NaN\n",
              "1       M          Hispanic        1981  ...        Y        N                   NaN\n",
              "2       F  African American        1977  ...        Y        N                   NaN\n",
              "3       F             White        1961  ...        N        Y                   NaN\n",
              "4       M             White        1954  ...        Y        N                   NaN\n",
              "5       M  African American        1982  ...        N        N                   NaN\n",
              "6       M  African American        1981  ...        Y        Y              LinkedIn\n",
              "8       F  African American        1969  ...        N        N                   NaN\n",
              "10      F          Hispanic        1959  ...        Y        N               Google+\n",
              "\n",
              "[9 rows x 15 columns]"
            ]
          },
          "metadata": {
            "tags": []
          },
          "execution_count": 12
        }
      ]
    },
    {
      "cell_type": "markdown",
      "metadata": {
        "id": "H1pQFLp_2P3q"
      },
      "source": [
        "Step 4: Attribute reduction - Reduce the number of attributes by eliminating unused attributes \n",
        "\n",
        "Remove “Other_Social_Network”\n"
      ]
    },
    {
      "cell_type": "code",
      "metadata": {
        "colab": {
          "base_uri": "https://localhost:8080/"
        },
        "id": "zYm8aKnp2RLx",
        "outputId": "9ee70748-4925-4bf6-d9eb-5e7e6746b308"
      },
      "source": [
        "df.drop('Other_Social_Network',axis=1,inplace=True)\n",
        "df.columns"
      ],
      "execution_count": null,
      "outputs": [
        {
          "output_type": "execute_result",
          "data": {
            "text/plain": [
              "Index(['Gender', 'Race', 'Birth_Year', 'Marital_Status', 'Years_on_Internet',\n",
              "       'Hours_Per_Day', 'Preferred_Browser', 'Preferred_Search_Engine',\n",
              "       'Preferred_Email', 'Read_News', 'Online_Shopping', 'Online_Gaming',\n",
              "       'Facebook', 'Twitter'],\n",
              "      dtype='object')"
            ]
          },
          "metadata": {
            "tags": []
          },
          "execution_count": 13
        }
      ]
    },
    {
      "cell_type": "markdown",
      "metadata": {
        "id": "V7I4wrXK2h3t"
      },
      "source": [
        "Step 4: Save your notebook and upload to canvas.\n",
        "\n",
        "Step 5: Using text cells, write briefly your observations and inferences.\n"
      ]
    },
    {
      "cell_type": "code",
      "metadata": {
        "id": "9vAApLTQ46RF"
      },
      "source": [
        ""
      ],
      "execution_count": null,
      "outputs": []
    }
  ]
}