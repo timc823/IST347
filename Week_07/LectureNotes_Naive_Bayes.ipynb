{
 "cells": [
  {
   "cell_type": "code",
   "execution_count": 1,
   "metadata": {
    "collapsed": true,
    "executionInfo": {
     "elapsed": 978,
     "status": "ok",
     "timestamp": 1614817946158,
     "user": {
      "displayName": "Tim Chen",
      "photoUrl": "https://lh3.googleusercontent.com/a-/AOh14GibXfukGZsVHxyPtGfa_bTQemmI3kTdqpMrCzXHBA=s64",
      "userId": "16478278992786146906"
     },
     "user_tz": 480
    },
    "id": "DuWfYTcMaWS-"
   },
   "outputs": [],
   "source": [
    "import pandas as pd\n",
    "import numpy as np\n",
    "import matplotlib.pyplot as plt\n",
    "import seaborn as sns\n",
    "%matplotlib inline"
   ]
  },
  {
   "cell_type": "markdown",
   "metadata": {
    "id": "PQRf3sxEaWS_"
   },
   "source": [
    "**The Data**\n",
    "\n",
    "Let's start by reading in the titanic_train.csv file into a pandas dataframe."
   ]
  },
  {
   "cell_type": "code",
   "execution_count": 2,
   "metadata": {
    "collapsed": true,
    "executionInfo": {
     "elapsed": 967,
     "status": "ok",
     "timestamp": 1614817946159,
     "user": {
      "displayName": "Tim Chen",
      "photoUrl": "https://lh3.googleusercontent.com/a-/AOh14GibXfukGZsVHxyPtGfa_bTQemmI3kTdqpMrCzXHBA=s64",
      "userId": "16478278992786146906"
     },
     "user_tz": 480
    },
    "id": "J2Mx5hAkaWS_"
   },
   "outputs": [],
   "source": [
    "df = pd.read_csv('/content/drive/MyDrive/IST347/Week_7/titanic_mod.csv')"
   ]
  },
  {
   "cell_type": "code",
   "execution_count": 3,
   "metadata": {
    "colab": {
     "base_uri": "https://localhost:8080/",
     "height": 204
    },
    "executionInfo": {
     "elapsed": 951,
     "status": "ok",
     "timestamp": 1614817946160,
     "user": {
      "displayName": "Tim Chen",
      "photoUrl": "https://lh3.googleusercontent.com/a-/AOh14GibXfukGZsVHxyPtGfa_bTQemmI3kTdqpMrCzXHBA=s64",
      "userId": "16478278992786146906"
     },
     "user_tz": 480
    },
    "id": "HHh5DNXbaWS_",
    "outputId": "7c077309-0d62-4df6-a149-db2667b99203"
   },
   "outputs": [
    {
     "data": {
      "text/html": [
       "<div>\n",
       "<style scoped>\n",
       "    .dataframe tbody tr th:only-of-type {\n",
       "        vertical-align: middle;\n",
       "    }\n",
       "\n",
       "    .dataframe tbody tr th {\n",
       "        vertical-align: top;\n",
       "    }\n",
       "\n",
       "    .dataframe thead th {\n",
       "        text-align: right;\n",
       "    }\n",
       "</style>\n",
       "<table border=\"1\" class=\"dataframe\">\n",
       "  <thead>\n",
       "    <tr style=\"text-align: right;\">\n",
       "      <th></th>\n",
       "      <th>PassengerId</th>\n",
       "      <th>Survived</th>\n",
       "      <th>Pclass</th>\n",
       "      <th>Name</th>\n",
       "      <th>Sex</th>\n",
       "      <th>Age</th>\n",
       "      <th>SibSp</th>\n",
       "      <th>Parch</th>\n",
       "      <th>Ticket</th>\n",
       "      <th>Fare</th>\n",
       "      <th>Cabin</th>\n",
       "      <th>Embarked</th>\n",
       "    </tr>\n",
       "  </thead>\n",
       "  <tbody>\n",
       "    <tr>\n",
       "      <th>0</th>\n",
       "      <td>1</td>\n",
       "      <td>0</td>\n",
       "      <td>3</td>\n",
       "      <td>Braund, Mr. Owen Harris</td>\n",
       "      <td>male</td>\n",
       "      <td>22.0</td>\n",
       "      <td>1</td>\n",
       "      <td>0</td>\n",
       "      <td>A/5 21171</td>\n",
       "      <td>7.2500</td>\n",
       "      <td>NaN</td>\n",
       "      <td>S</td>\n",
       "    </tr>\n",
       "    <tr>\n",
       "      <th>1</th>\n",
       "      <td>2</td>\n",
       "      <td>1</td>\n",
       "      <td>1</td>\n",
       "      <td>Cumings, Mrs. John Bradley (Florence Briggs Th...</td>\n",
       "      <td>female</td>\n",
       "      <td>38.0</td>\n",
       "      <td>1</td>\n",
       "      <td>0</td>\n",
       "      <td>PC 17599</td>\n",
       "      <td>71.2833</td>\n",
       "      <td>C85</td>\n",
       "      <td>C</td>\n",
       "    </tr>\n",
       "    <tr>\n",
       "      <th>2</th>\n",
       "      <td>3</td>\n",
       "      <td>1</td>\n",
       "      <td>3</td>\n",
       "      <td>Heikkinen, Miss. Laina</td>\n",
       "      <td>female</td>\n",
       "      <td>26.0</td>\n",
       "      <td>0</td>\n",
       "      <td>0</td>\n",
       "      <td>STON/O2. 3101282</td>\n",
       "      <td>7.9250</td>\n",
       "      <td>NaN</td>\n",
       "      <td>S</td>\n",
       "    </tr>\n",
       "    <tr>\n",
       "      <th>3</th>\n",
       "      <td>4</td>\n",
       "      <td>1</td>\n",
       "      <td>1</td>\n",
       "      <td>Futrelle, Mrs. Jacques Heath (Lily May Peel)</td>\n",
       "      <td>female</td>\n",
       "      <td>35.0</td>\n",
       "      <td>1</td>\n",
       "      <td>0</td>\n",
       "      <td>113803</td>\n",
       "      <td>53.1000</td>\n",
       "      <td>C123</td>\n",
       "      <td>S</td>\n",
       "    </tr>\n",
       "    <tr>\n",
       "      <th>4</th>\n",
       "      <td>5</td>\n",
       "      <td>0</td>\n",
       "      <td>3</td>\n",
       "      <td>Allen, Mr. William Henry</td>\n",
       "      <td>male</td>\n",
       "      <td>35.0</td>\n",
       "      <td>0</td>\n",
       "      <td>0</td>\n",
       "      <td>373450</td>\n",
       "      <td>8.0500</td>\n",
       "      <td>NaN</td>\n",
       "      <td>S</td>\n",
       "    </tr>\n",
       "  </tbody>\n",
       "</table>\n",
       "</div>"
      ],
      "text/plain": [
       "   PassengerId  Survived  Pclass  ...     Fare Cabin  Embarked\n",
       "0            1         0       3  ...   7.2500   NaN         S\n",
       "1            2         1       1  ...  71.2833   C85         C\n",
       "2            3         1       3  ...   7.9250   NaN         S\n",
       "3            4         1       1  ...  53.1000  C123         S\n",
       "4            5         0       3  ...   8.0500   NaN         S\n",
       "\n",
       "[5 rows x 12 columns]"
      ]
     },
     "execution_count": 3,
     "metadata": {
      "tags": []
     },
     "output_type": "execute_result"
    }
   ],
   "source": [
    "df.head()"
   ]
  },
  {
   "cell_type": "markdown",
   "metadata": {
    "id": "RI42zRtsaWTE"
   },
   "source": [
    "**Data Cleaning**\n",
    "\n",
    "We want to fill in missing age data instead of just dropping the missing age data rows. One way to do this is by filling in the mean age of all the passengers (imputation).\n",
    "However we can be smarter about this and check the average age by passenger class. For example:\n"
   ]
  },
  {
   "cell_type": "code",
   "execution_count": 4,
   "metadata": {
    "colab": {
     "base_uri": "https://localhost:8080/"
    },
    "executionInfo": {
     "elapsed": 1257,
     "status": "ok",
     "timestamp": 1614817946488,
     "user": {
      "displayName": "Tim Chen",
      "photoUrl": "https://lh3.googleusercontent.com/a-/AOh14GibXfukGZsVHxyPtGfa_bTQemmI3kTdqpMrCzXHBA=s64",
      "userId": "16478278992786146906"
     },
     "user_tz": 480
    },
    "id": "DHTetvO_qgGh",
    "outputId": "dcea27ac-93b2-4e1e-96f6-9d75cb372f60"
   },
   "outputs": [
    {
     "data": {
      "text/plain": [
       "Index(['PassengerId', 'Survived', 'Pclass', 'Name', 'Sex', 'Age', 'SibSp',\n",
       "       'Parch', 'Ticket', 'Fare', 'Cabin', 'Embarked'],\n",
       "      dtype='object')"
      ]
     },
     "execution_count": 4,
     "metadata": {
      "tags": []
     },
     "output_type": "execute_result"
    }
   ],
   "source": [
    "df.columns"
   ]
  },
  {
   "cell_type": "code",
   "execution_count": 5,
   "metadata": {
    "executionInfo": {
     "elapsed": 1239,
     "status": "ok",
     "timestamp": 1614817946489,
     "user": {
      "displayName": "Tim Chen",
      "photoUrl": "https://lh3.googleusercontent.com/a-/AOh14GibXfukGZsVHxyPtGfa_bTQemmI3kTdqpMrCzXHBA=s64",
      "userId": "16478278992786146906"
     },
     "user_tz": 480
    },
    "id": "tBZH-6hTqm6A"
   },
   "outputs": [],
   "source": [
    "df.drop(['PassengerId', 'Name', 'SibSp', 'Parch', 'Ticket', 'Cabin', 'Embarked'], axis=1, inplace=True)"
   ]
  },
  {
   "cell_type": "code",
   "execution_count": 6,
   "metadata": {
    "colab": {
     "base_uri": "https://localhost:8080/",
     "height": 204
    },
    "executionInfo": {
     "elapsed": 1221,
     "status": "ok",
     "timestamp": 1614817946490,
     "user": {
      "displayName": "Tim Chen",
      "photoUrl": "https://lh3.googleusercontent.com/a-/AOh14GibXfukGZsVHxyPtGfa_bTQemmI3kTdqpMrCzXHBA=s64",
      "userId": "16478278992786146906"
     },
     "user_tz": 480
    },
    "id": "87OP4ieurKam",
    "outputId": "c4f6cf1b-6b67-48e3-919d-6a666bc6dd70"
   },
   "outputs": [
    {
     "data": {
      "text/html": [
       "<div>\n",
       "<style scoped>\n",
       "    .dataframe tbody tr th:only-of-type {\n",
       "        vertical-align: middle;\n",
       "    }\n",
       "\n",
       "    .dataframe tbody tr th {\n",
       "        vertical-align: top;\n",
       "    }\n",
       "\n",
       "    .dataframe thead th {\n",
       "        text-align: right;\n",
       "    }\n",
       "</style>\n",
       "<table border=\"1\" class=\"dataframe\">\n",
       "  <thead>\n",
       "    <tr style=\"text-align: right;\">\n",
       "      <th></th>\n",
       "      <th>Survived</th>\n",
       "      <th>Pclass</th>\n",
       "      <th>Sex</th>\n",
       "      <th>Age</th>\n",
       "      <th>Fare</th>\n",
       "    </tr>\n",
       "  </thead>\n",
       "  <tbody>\n",
       "    <tr>\n",
       "      <th>0</th>\n",
       "      <td>0</td>\n",
       "      <td>3</td>\n",
       "      <td>male</td>\n",
       "      <td>22.0</td>\n",
       "      <td>7.2500</td>\n",
       "    </tr>\n",
       "    <tr>\n",
       "      <th>1</th>\n",
       "      <td>1</td>\n",
       "      <td>1</td>\n",
       "      <td>female</td>\n",
       "      <td>38.0</td>\n",
       "      <td>71.2833</td>\n",
       "    </tr>\n",
       "    <tr>\n",
       "      <th>2</th>\n",
       "      <td>1</td>\n",
       "      <td>3</td>\n",
       "      <td>female</td>\n",
       "      <td>26.0</td>\n",
       "      <td>7.9250</td>\n",
       "    </tr>\n",
       "    <tr>\n",
       "      <th>3</th>\n",
       "      <td>1</td>\n",
       "      <td>1</td>\n",
       "      <td>female</td>\n",
       "      <td>35.0</td>\n",
       "      <td>53.1000</td>\n",
       "    </tr>\n",
       "    <tr>\n",
       "      <th>4</th>\n",
       "      <td>0</td>\n",
       "      <td>3</td>\n",
       "      <td>male</td>\n",
       "      <td>35.0</td>\n",
       "      <td>8.0500</td>\n",
       "    </tr>\n",
       "  </tbody>\n",
       "</table>\n",
       "</div>"
      ],
      "text/plain": [
       "   Survived  Pclass     Sex   Age     Fare\n",
       "0         0       3    male  22.0   7.2500\n",
       "1         1       1  female  38.0  71.2833\n",
       "2         1       3  female  26.0   7.9250\n",
       "3         1       1  female  35.0  53.1000\n",
       "4         0       3    male  35.0   8.0500"
      ]
     },
     "execution_count": 6,
     "metadata": {
      "tags": []
     },
     "output_type": "execute_result"
    }
   ],
   "source": [
    "df.head()"
   ]
  },
  {
   "cell_type": "code",
   "execution_count": 7,
   "metadata": {
    "colab": {
     "base_uri": "https://localhost:8080/"
    },
    "executionInfo": {
     "elapsed": 1202,
     "status": "ok",
     "timestamp": 1614817946491,
     "user": {
      "displayName": "Tim Chen",
      "photoUrl": "https://lh3.googleusercontent.com/a-/AOh14GibXfukGZsVHxyPtGfa_bTQemmI3kTdqpMrCzXHBA=s64",
      "userId": "16478278992786146906"
     },
     "user_tz": 480
    },
    "id": "cT5-n5ZErtCH",
    "outputId": "9cedada3-fcaa-45fd-b7bb-3d2fbff91ca9"
   },
   "outputs": [
    {
     "data": {
      "text/plain": [
       "Survived      0\n",
       "Pclass        0\n",
       "Sex           0\n",
       "Age         177\n",
       "Fare          0\n",
       "dtype: int64"
      ]
     },
     "execution_count": 7,
     "metadata": {
      "tags": []
     },
     "output_type": "execute_result"
    }
   ],
   "source": [
    "df.isnull().sum()"
   ]
  },
  {
   "cell_type": "code",
   "execution_count": 8,
   "metadata": {
    "executionInfo": {
     "elapsed": 1189,
     "status": "ok",
     "timestamp": 1614817946491,
     "user": {
      "displayName": "Tim Chen",
      "photoUrl": "https://lh3.googleusercontent.com/a-/AOh14GibXfukGZsVHxyPtGfa_bTQemmI3kTdqpMrCzXHBA=s64",
      "userId": "16478278992786146906"
     },
     "user_tz": 480
    },
    "id": "9nnRuQzmCJEZ"
   },
   "outputs": [],
   "source": [
    "df['Age'].fillna((df['Age'].mean()), inplace=True)"
   ]
  },
  {
   "cell_type": "markdown",
   "metadata": {
    "id": "9knLqp-GaWTG"
   },
   "source": [
    "Great! Let's go ahead and drop the Cabin column and the row in Embarked that is NaN."
   ]
  },
  {
   "cell_type": "code",
   "execution_count": 9,
   "metadata": {
    "colab": {
     "base_uri": "https://localhost:8080/"
    },
    "executionInfo": {
     "elapsed": 1175,
     "status": "ok",
     "timestamp": 1614817946492,
     "user": {
      "displayName": "Tim Chen",
      "photoUrl": "https://lh3.googleusercontent.com/a-/AOh14GibXfukGZsVHxyPtGfa_bTQemmI3kTdqpMrCzXHBA=s64",
      "userId": "16478278992786146906"
     },
     "user_tz": 480
    },
    "id": "hxPvYXOEDutP",
    "outputId": "ad45270f-1898-49b7-be4e-4c3de2625eaf"
   },
   "outputs": [
    {
     "data": {
      "text/plain": [
       "Survived    0\n",
       "Pclass      0\n",
       "Sex         0\n",
       "Age         0\n",
       "Fare        0\n",
       "dtype: int64"
      ]
     },
     "execution_count": 9,
     "metadata": {
      "tags": []
     },
     "output_type": "execute_result"
    }
   ],
   "source": [
    "df.isnull().sum()"
   ]
  },
  {
   "cell_type": "markdown",
   "metadata": {
    "id": "oWXaHGxRaWTI"
   },
   "source": [
    "**Converting Categorical Features**\n",
    "\n",
    "We'll need to convert categorical features to dummy variables using pandas! Otherwise our machine learning algorithm won't be able to directly take in those features as inputs."
   ]
  },
  {
   "cell_type": "code",
   "execution_count": 10,
   "metadata": {
    "colab": {
     "base_uri": "https://localhost:8080/"
    },
    "executionInfo": {
     "elapsed": 1163,
     "status": "ok",
     "timestamp": 1614817946493,
     "user": {
      "displayName": "Tim Chen",
      "photoUrl": "https://lh3.googleusercontent.com/a-/AOh14GibXfukGZsVHxyPtGfa_bTQemmI3kTdqpMrCzXHBA=s64",
      "userId": "16478278992786146906"
     },
     "user_tz": 480
    },
    "id": "2K6ZyTt7aWTI",
    "outputId": "018e6bb2-b217-48ed-b67d-cbf23a4f2c82"
   },
   "outputs": [
    {
     "name": "stdout",
     "output_type": "stream",
     "text": [
      "<class 'pandas.core.frame.DataFrame'>\n",
      "RangeIndex: 891 entries, 0 to 890\n",
      "Data columns (total 5 columns):\n",
      " #   Column    Non-Null Count  Dtype  \n",
      "---  ------    --------------  -----  \n",
      " 0   Survived  891 non-null    int64  \n",
      " 1   Pclass    891 non-null    int64  \n",
      " 2   Sex       891 non-null    object \n",
      " 3   Age       891 non-null    float64\n",
      " 4   Fare      891 non-null    float64\n",
      "dtypes: float64(2), int64(2), object(1)\n",
      "memory usage: 34.9+ KB\n"
     ]
    }
   ],
   "source": [
    "df.info()"
   ]
  },
  {
   "cell_type": "code",
   "execution_count": 11,
   "metadata": {
    "executionInfo": {
     "elapsed": 1161,
     "status": "ok",
     "timestamp": 1614817946493,
     "user": {
      "displayName": "Tim Chen",
      "photoUrl": "https://lh3.googleusercontent.com/a-/AOh14GibXfukGZsVHxyPtGfa_bTQemmI3kTdqpMrCzXHBA=s64",
      "userId": "16478278992786146906"
     },
     "user_tz": 480
    },
    "id": "6krQbpRNaWTI"
   },
   "outputs": [],
   "source": [
    "sex = pd.get_dummies(df['Sex'],drop_first=True)"
   ]
  },
  {
   "cell_type": "code",
   "execution_count": 12,
   "metadata": {
    "executionInfo": {
     "elapsed": 1160,
     "status": "ok",
     "timestamp": 1614817946494,
     "user": {
      "displayName": "Tim Chen",
      "photoUrl": "https://lh3.googleusercontent.com/a-/AOh14GibXfukGZsVHxyPtGfa_bTQemmI3kTdqpMrCzXHBA=s64",
      "userId": "16478278992786146906"
     },
     "user_tz": 480
    },
    "id": "1ySRLh0zaWTJ"
   },
   "outputs": [],
   "source": [
    "df.drop(['Sex'],axis=1,inplace=True)"
   ]
  },
  {
   "cell_type": "code",
   "execution_count": 13,
   "metadata": {
    "executionInfo": {
     "elapsed": 1158,
     "status": "ok",
     "timestamp": 1614817946494,
     "user": {
      "displayName": "Tim Chen",
      "photoUrl": "https://lh3.googleusercontent.com/a-/AOh14GibXfukGZsVHxyPtGfa_bTQemmI3kTdqpMrCzXHBA=s64",
      "userId": "16478278992786146906"
     },
     "user_tz": 480
    },
    "id": "TAVyPsmBuO3x"
   },
   "outputs": [],
   "source": [
    "df = pd.concat([df,sex],axis=1)"
   ]
  },
  {
   "cell_type": "code",
   "execution_count": 14,
   "metadata": {
    "colab": {
     "base_uri": "https://localhost:8080/",
     "height": 204
    },
    "executionInfo": {
     "elapsed": 1137,
     "status": "ok",
     "timestamp": 1614817946495,
     "user": {
      "displayName": "Tim Chen",
      "photoUrl": "https://lh3.googleusercontent.com/a-/AOh14GibXfukGZsVHxyPtGfa_bTQemmI3kTdqpMrCzXHBA=s64",
      "userId": "16478278992786146906"
     },
     "user_tz": 480
    },
    "id": "RFL5RFV4aWTJ",
    "outputId": "ff462921-1b53-451f-8bc9-d265e12f185b"
   },
   "outputs": [
    {
     "data": {
      "text/html": [
       "<div>\n",
       "<style scoped>\n",
       "    .dataframe tbody tr th:only-of-type {\n",
       "        vertical-align: middle;\n",
       "    }\n",
       "\n",
       "    .dataframe tbody tr th {\n",
       "        vertical-align: top;\n",
       "    }\n",
       "\n",
       "    .dataframe thead th {\n",
       "        text-align: right;\n",
       "    }\n",
       "</style>\n",
       "<table border=\"1\" class=\"dataframe\">\n",
       "  <thead>\n",
       "    <tr style=\"text-align: right;\">\n",
       "      <th></th>\n",
       "      <th>Survived</th>\n",
       "      <th>Pclass</th>\n",
       "      <th>Age</th>\n",
       "      <th>Fare</th>\n",
       "      <th>male</th>\n",
       "    </tr>\n",
       "  </thead>\n",
       "  <tbody>\n",
       "    <tr>\n",
       "      <th>0</th>\n",
       "      <td>0</td>\n",
       "      <td>3</td>\n",
       "      <td>22.0</td>\n",
       "      <td>7.2500</td>\n",
       "      <td>1</td>\n",
       "    </tr>\n",
       "    <tr>\n",
       "      <th>1</th>\n",
       "      <td>1</td>\n",
       "      <td>1</td>\n",
       "      <td>38.0</td>\n",
       "      <td>71.2833</td>\n",
       "      <td>0</td>\n",
       "    </tr>\n",
       "    <tr>\n",
       "      <th>2</th>\n",
       "      <td>1</td>\n",
       "      <td>3</td>\n",
       "      <td>26.0</td>\n",
       "      <td>7.9250</td>\n",
       "      <td>0</td>\n",
       "    </tr>\n",
       "    <tr>\n",
       "      <th>3</th>\n",
       "      <td>1</td>\n",
       "      <td>1</td>\n",
       "      <td>35.0</td>\n",
       "      <td>53.1000</td>\n",
       "      <td>0</td>\n",
       "    </tr>\n",
       "    <tr>\n",
       "      <th>4</th>\n",
       "      <td>0</td>\n",
       "      <td>3</td>\n",
       "      <td>35.0</td>\n",
       "      <td>8.0500</td>\n",
       "      <td>1</td>\n",
       "    </tr>\n",
       "  </tbody>\n",
       "</table>\n",
       "</div>"
      ],
      "text/plain": [
       "   Survived  Pclass   Age     Fare  male\n",
       "0         0       3  22.0   7.2500     1\n",
       "1         1       1  38.0  71.2833     0\n",
       "2         1       3  26.0   7.9250     0\n",
       "3         1       1  35.0  53.1000     0\n",
       "4         0       3  35.0   8.0500     1"
      ]
     },
     "execution_count": 14,
     "metadata": {
      "tags": []
     },
     "output_type": "execute_result"
    }
   ],
   "source": [
    "df.head()"
   ]
  },
  {
   "cell_type": "code",
   "execution_count": 15,
   "metadata": {
    "colab": {
     "base_uri": "https://localhost:8080/"
    },
    "executionInfo": {
     "elapsed": 1125,
     "status": "ok",
     "timestamp": 1614817946496,
     "user": {
      "displayName": "Tim Chen",
      "photoUrl": "https://lh3.googleusercontent.com/a-/AOh14GibXfukGZsVHxyPtGfa_bTQemmI3kTdqpMrCzXHBA=s64",
      "userId": "16478278992786146906"
     },
     "user_tz": 480
    },
    "id": "7ivjtGJtKsn5",
    "outputId": "fa320f5a-0f2d-4514-98f6-bc9f87f8f8d3"
   },
   "outputs": [
    {
     "data": {
      "text/plain": [
       "Index(['Survived', 'Pclass', 'Age', 'Fare', 'male'], dtype='object')"
      ]
     },
     "execution_count": 15,
     "metadata": {
      "tags": []
     },
     "output_type": "execute_result"
    }
   ],
   "source": [
    "df.columns"
   ]
  },
  {
   "cell_type": "markdown",
   "metadata": {
    "id": "yM1hAqBvaWTK"
   },
   "source": [
    "Great! Our data is ready for our model!\n",
    "\n",
    "**Building a Naive bayes model**\n",
    "\n",
    "Let's start by splitting our data into a training set and test set (there is another test.csv file that you can play around with in case you want to use all this data for training).\n"
   ]
  },
  {
   "cell_type": "code",
   "execution_count": 16,
   "metadata": {
    "executionInfo": {
     "elapsed": 1123,
     "status": "ok",
     "timestamp": 1614817946496,
     "user": {
      "displayName": "Tim Chen",
      "photoUrl": "https://lh3.googleusercontent.com/a-/AOh14GibXfukGZsVHxyPtGfa_bTQemmI3kTdqpMrCzXHBA=s64",
      "userId": "16478278992786146906"
     },
     "user_tz": 480
    },
    "id": "UKKVsQziKjkI"
   },
   "outputs": [],
   "source": [
    "X = df[['Pclass', 'Age', 'Fare', 'male']]\n",
    "y = df['Survived']"
   ]
  },
  {
   "cell_type": "code",
   "execution_count": 19,
   "metadata": {
    "collapsed": true,
    "executionInfo": {
     "elapsed": 1335,
     "status": "ok",
     "timestamp": 1614817946736,
     "user": {
      "displayName": "Tim Chen",
      "photoUrl": "https://lh3.googleusercontent.com/a-/AOh14GibXfukGZsVHxyPtGfa_bTQemmI3kTdqpMrCzXHBA=s64",
      "userId": "16478278992786146906"
     },
     "user_tz": 480
    },
    "id": "tSL18oWHaWTK"
   },
   "outputs": [],
   "source": [
    "from sklearn.model_selection import train_test_split"
   ]
  },
  {
   "cell_type": "code",
   "execution_count": 20,
   "metadata": {
    "executionInfo": {
     "elapsed": 1335,
     "status": "ok",
     "timestamp": 1614817946737,
     "user": {
      "displayName": "Tim Chen",
      "photoUrl": "https://lh3.googleusercontent.com/a-/AOh14GibXfukGZsVHxyPtGfa_bTQemmI3kTdqpMrCzXHBA=s64",
      "userId": "16478278992786146906"
     },
     "user_tz": 480
    },
    "id": "bR138TSkaWTK"
   },
   "outputs": [],
   "source": [
    "X_train, X_test, y_train, y_test = train_test_split(X, y, test_size=0.25, random_state=101)"
   ]
  },
  {
   "cell_type": "markdown",
   "metadata": {
    "id": "Ly45g6a9aWTL"
   },
   "source": [
    "**Training and Predicting**"
   ]
  },
  {
   "cell_type": "code",
   "execution_count": 21,
   "metadata": {
    "executionInfo": {
     "elapsed": 521,
     "status": "ok",
     "timestamp": 1614818190084,
     "user": {
      "displayName": "Tim Chen",
      "photoUrl": "https://lh3.googleusercontent.com/a-/AOh14GibXfukGZsVHxyPtGfa_bTQemmI3kTdqpMrCzXHBA=s64",
      "userId": "16478278992786146906"
     },
     "user_tz": 480
    },
    "id": "Cu6x5fxGqLmk"
   },
   "outputs": [],
   "source": [
    "from sklearn.naive_bayes import GaussianNB"
   ]
  },
  {
   "cell_type": "code",
   "execution_count": 22,
   "metadata": {
    "executionInfo": {
     "elapsed": 519,
     "status": "ok",
     "timestamp": 1614818215643,
     "user": {
      "displayName": "Tim Chen",
      "photoUrl": "https://lh3.googleusercontent.com/a-/AOh14GibXfukGZsVHxyPtGfa_bTQemmI3kTdqpMrCzXHBA=s64",
      "userId": "16478278992786146906"
     },
     "user_tz": 480
    },
    "id": "nq0auJ_yqlvW"
   },
   "outputs": [],
   "source": [
    "model = GaussianNB()"
   ]
  },
  {
   "cell_type": "code",
   "execution_count": 23,
   "metadata": {
    "executionInfo": {
     "elapsed": 531,
     "status": "ok",
     "timestamp": 1614818244790,
     "user": {
      "displayName": "Tim Chen",
      "photoUrl": "https://lh3.googleusercontent.com/a-/AOh14GibXfukGZsVHxyPtGfa_bTQemmI3kTdqpMrCzXHBA=s64",
      "userId": "16478278992786146906"
     },
     "user_tz": 480
    },
    "id": "EPKAW53hqqpm"
   },
   "outputs": [],
   "source": [
    "clf = model.fit(X_train, y_train)"
   ]
  },
  {
   "cell_type": "code",
   "execution_count": 24,
   "metadata": {
    "executionInfo": {
     "elapsed": 512,
     "status": "ok",
     "timestamp": 1614818290108,
     "user": {
      "displayName": "Tim Chen",
      "photoUrl": "https://lh3.googleusercontent.com/a-/AOh14GibXfukGZsVHxyPtGfa_bTQemmI3kTdqpMrCzXHBA=s64",
      "userId": "16478278992786146906"
     },
     "user_tz": 480
    },
    "id": "GRER7b-fqqY7"
   },
   "outputs": [],
   "source": [
    "y_pred = clf.predict(X_test)"
   ]
  },
  {
   "cell_type": "markdown",
   "metadata": {
    "id": "Oq_jnstNaWTM"
   },
   "source": [
    "Let's move on to evaluate our model!"
   ]
  },
  {
   "cell_type": "markdown",
   "metadata": {
    "id": "bufwUgnyaWTM"
   },
   "source": [
    "**Evaluation**"
   ]
  },
  {
   "cell_type": "code",
   "execution_count": 25,
   "metadata": {
    "executionInfo": {
     "elapsed": 522,
     "status": "ok",
     "timestamp": 1614818354876,
     "user": {
      "displayName": "Tim Chen",
      "photoUrl": "https://lh3.googleusercontent.com/a-/AOh14GibXfukGZsVHxyPtGfa_bTQemmI3kTdqpMrCzXHBA=s64",
      "userId": "16478278992786146906"
     },
     "user_tz": 480
    },
    "id": "tlRwMg3prCPp"
   },
   "outputs": [],
   "source": [
    "from sklearn.metrics import classification_report, confusion_matrix"
   ]
  },
  {
   "cell_type": "markdown",
   "metadata": {
    "id": "fXsPLjOqaWTN"
   },
   "source": [
    "We can check precision,recall,f1-score using classification report!"
   ]
  },
  {
   "cell_type": "code",
   "execution_count": 26,
   "metadata": {
    "colab": {
     "base_uri": "https://localhost:8080/"
    },
    "executionInfo": {
     "elapsed": 518,
     "status": "ok",
     "timestamp": 1614818371968,
     "user": {
      "displayName": "Tim Chen",
      "photoUrl": "https://lh3.googleusercontent.com/a-/AOh14GibXfukGZsVHxyPtGfa_bTQemmI3kTdqpMrCzXHBA=s64",
      "userId": "16478278992786146906"
     },
     "user_tz": 480
    },
    "id": "Wt4JH_4JrLDi",
    "outputId": "53a7676f-cfe2-4b78-b57a-8898f439a6d8"
   },
   "outputs": [
    {
     "name": "stdout",
     "output_type": "stream",
     "text": [
      "              precision    recall  f1-score   support\n",
      "\n",
      "           0       0.76      0.81      0.79       127\n",
      "           1       0.73      0.67      0.70        96\n",
      "\n",
      "    accuracy                           0.75       223\n",
      "   macro avg       0.75      0.74      0.74       223\n",
      "weighted avg       0.75      0.75      0.75       223\n",
      "\n"
     ]
    }
   ],
   "source": [
    "print(classification_report(y_test, y_pred))"
   ]
  },
  {
   "cell_type": "code",
   "execution_count": 27,
   "metadata": {
    "colab": {
     "base_uri": "https://localhost:8080/"
    },
    "executionInfo": {
     "elapsed": 515,
     "status": "ok",
     "timestamp": 1614818456400,
     "user": {
      "displayName": "Tim Chen",
      "photoUrl": "https://lh3.googleusercontent.com/a-/AOh14GibXfukGZsVHxyPtGfa_bTQemmI3kTdqpMrCzXHBA=s64",
      "userId": "16478278992786146906"
     },
     "user_tz": 480
    },
    "id": "srbwnkw5rK7t",
    "outputId": "bcf9228d-5754-460e-f136-4f16c658cf1b"
   },
   "outputs": [
    {
     "name": "stdout",
     "output_type": "stream",
     "text": [
      "[[103  24]\n",
      " [ 32  64]]\n"
     ]
    }
   ],
   "source": [
    "print(confusion_matrix(y_test, y_pred))"
   ]
  },
  {
   "cell_type": "code",
   "execution_count": 28,
   "metadata": {
    "executionInfo": {
     "elapsed": 675,
     "status": "ok",
     "timestamp": 1614818514133,
     "user": {
      "displayName": "Tim Chen",
      "photoUrl": "https://lh3.googleusercontent.com/a-/AOh14GibXfukGZsVHxyPtGfa_bTQemmI3kTdqpMrCzXHBA=s64",
      "userId": "16478278992786146906"
     },
     "user_tz": 480
    },
    "id": "AO-cMaB6rtwF"
   },
   "outputs": [],
   "source": [
    "y_pred_prob = clf.predict_proba(X_test)"
   ]
  },
  {
   "cell_type": "code",
   "execution_count": 31,
   "metadata": {
    "colab": {
     "base_uri": "https://localhost:8080/"
    },
    "executionInfo": {
     "elapsed": 506,
     "status": "ok",
     "timestamp": 1614818635904,
     "user": {
      "displayName": "Tim Chen",
      "photoUrl": "https://lh3.googleusercontent.com/a-/AOh14GibXfukGZsVHxyPtGfa_bTQemmI3kTdqpMrCzXHBA=s64",
      "userId": "16478278992786146906"
     },
     "user_tz": 480
    },
    "id": "VL2KUxonrx97",
    "outputId": "71affe6d-c7a7-402d-fad0-3b56108825af"
   },
   "outputs": [
    {
     "data": {
      "text/plain": [
       "array([[8.07807137e-01, 1.92192863e-01],\n",
       "       [3.09359704e-11, 1.00000000e+00],\n",
       "       [6.58907589e-01, 3.41092411e-01],\n",
       "       [9.54528780e-01, 4.54712198e-02],\n",
       "       [9.34637838e-01, 6.53621618e-02],\n",
       "       [9.72961758e-01, 2.70382415e-02],\n",
       "       [8.02178574e-01, 1.97821426e-01],\n",
       "       [9.69049838e-01, 3.09501625e-02],\n",
       "       [5.48751184e-02, 9.45124882e-01],\n",
       "       [4.68144289e-01, 5.31855711e-01]])"
      ]
     },
     "execution_count": 31,
     "metadata": {
      "tags": []
     },
     "output_type": "execute_result"
    }
   ],
   "source": [
    "y_pred_prob[:10]"
   ]
  },
  {
   "cell_type": "markdown",
   "metadata": {
    "id": "zgxW9zhBsUva"
   },
   "source": [
    "Can cross fold validation help?"
   ]
  },
  {
   "cell_type": "code",
   "execution_count": 43,
   "metadata": {
    "executionInfo": {
     "elapsed": 851,
     "status": "ok",
     "timestamp": 1614819309303,
     "user": {
      "displayName": "Tim Chen",
      "photoUrl": "https://lh3.googleusercontent.com/a-/AOh14GibXfukGZsVHxyPtGfa_bTQemmI3kTdqpMrCzXHBA=s64",
      "userId": "16478278992786146906"
     },
     "user_tz": 480
    },
    "id": "BMrYs4KXsO27"
   },
   "outputs": [],
   "source": [
    "from sklearn.model_selection import cross_validate"
   ]
  },
  {
   "cell_type": "code",
   "execution_count": 44,
   "metadata": {
    "executionInfo": {
     "elapsed": 643,
     "status": "ok",
     "timestamp": 1614819309304,
     "user": {
      "displayName": "Tim Chen",
      "photoUrl": "https://lh3.googleusercontent.com/a-/AOh14GibXfukGZsVHxyPtGfa_bTQemmI3kTdqpMrCzXHBA=s64",
      "userId": "16478278992786146906"
     },
     "user_tz": 480
    },
    "id": "xeu9cNIJskMC"
   },
   "outputs": [],
   "source": [
    "model_v = GaussianNB()"
   ]
  },
  {
   "cell_type": "code",
   "execution_count": 45,
   "metadata": {
    "executionInfo": {
     "elapsed": 745,
     "status": "ok",
     "timestamp": 1614819309559,
     "user": {
      "displayName": "Tim Chen",
      "photoUrl": "https://lh3.googleusercontent.com/a-/AOh14GibXfukGZsVHxyPtGfa_bTQemmI3kTdqpMrCzXHBA=s64",
      "userId": "16478278992786146906"
     },
     "user_tz": 480
    },
    "id": "rwURyTqNslyW"
   },
   "outputs": [],
   "source": [
    "scores = cross_validate(model_v, X_train, y_train, scoring=['accuracy', 'f1'], cv = 10)"
   ]
  },
  {
   "cell_type": "code",
   "execution_count": 46,
   "metadata": {
    "colab": {
     "base_uri": "https://localhost:8080/"
    },
    "executionInfo": {
     "elapsed": 503,
     "status": "ok",
     "timestamp": 1614819309560,
     "user": {
      "displayName": "Tim Chen",
      "photoUrl": "https://lh3.googleusercontent.com/a-/AOh14GibXfukGZsVHxyPtGfa_bTQemmI3kTdqpMrCzXHBA=s64",
      "userId": "16478278992786146906"
     },
     "user_tz": 480
    },
    "id": "yCV-eBPvs6q_",
    "outputId": "b5a81820-6489-4cd1-a532-34af71faf5b2"
   },
   "outputs": [
    {
     "name": "stdout",
     "output_type": "stream",
     "text": [
      "   fit_time  score_time  test_accuracy   test_f1\n",
      "0  0.003645    0.002730       0.835821  0.765957\n",
      "1  0.003568    0.004314       0.791045  0.708333\n",
      "2  0.003749    0.001700       0.850746  0.807692\n",
      "3  0.001731    0.001637       0.656716  0.530612\n",
      "4  0.001810    0.001619       0.880597  0.833333\n",
      "5  0.002998    0.002393       0.761194  0.703704\n",
      "6  0.002840    0.002148       0.805970  0.754717\n",
      "7  0.001996    0.001657       0.820896  0.769231\n",
      "8  0.001697    0.001583       0.696970  0.583333\n",
      "9  0.001725    0.001609       0.772727  0.716981\n"
     ]
    }
   ],
   "source": [
    "scores_df = pd.DataFrame(scores)\n",
    "print(scores_df)"
   ]
  },
  {
   "cell_type": "code",
   "execution_count": 42,
   "metadata": {
    "colab": {
     "base_uri": "https://localhost:8080/"
    },
    "executionInfo": {
     "elapsed": 548,
     "status": "ok",
     "timestamp": 1614819305569,
     "user": {
      "displayName": "Tim Chen",
      "photoUrl": "https://lh3.googleusercontent.com/a-/AOh14GibXfukGZsVHxyPtGfa_bTQemmI3kTdqpMrCzXHBA=s64",
      "userId": "16478278992786146906"
     },
     "user_tz": 480
    },
    "id": "b8pE1ma2tAiF",
    "outputId": "7e1144b1-8439-43d9-96af-1a5437bc4b9c"
   },
   "outputs": [
    {
     "data": {
      "text/plain": [
       "0.7872682044323837"
      ]
     },
     "execution_count": 42,
     "metadata": {
      "tags": []
     },
     "output_type": "execute_result"
    }
   ],
   "source": [
    "scores_df.test_accuracy.mean()"
   ]
  },
  {
   "cell_type": "code",
   "execution_count": 51,
   "metadata": {
    "executionInfo": {
     "elapsed": 506,
     "status": "ok",
     "timestamp": 1614819370895,
     "user": {
      "displayName": "Tim Chen",
      "photoUrl": "https://lh3.googleusercontent.com/a-/AOh14GibXfukGZsVHxyPtGfa_bTQemmI3kTdqpMrCzXHBA=s64",
      "userId": "16478278992786146906"
     },
     "user_tz": 480
    },
    "id": "p25QZ654tcfj"
   },
   "outputs": [],
   "source": [
    "new_df = pd.DataFrame(cross_validate(model_v, X_train, y_train, scoring=['accuracy', 'f1'], cv = 50))"
   ]
  },
  {
   "cell_type": "code",
   "execution_count": 53,
   "metadata": {
    "colab": {
     "base_uri": "https://localhost:8080/"
    },
    "executionInfo": {
     "elapsed": 509,
     "status": "ok",
     "timestamp": 1614819381148,
     "user": {
      "displayName": "Tim Chen",
      "photoUrl": "https://lh3.googleusercontent.com/a-/AOh14GibXfukGZsVHxyPtGfa_bTQemmI3kTdqpMrCzXHBA=s64",
      "userId": "16478278992786146906"
     },
     "user_tz": 480
    },
    "id": "HPNoMZ3Du9HP",
    "outputId": "050e186d-2849-4fbe-c24e-927be3465506"
   },
   "outputs": [
    {
     "data": {
      "text/plain": [
       "0.7858241758241761"
      ]
     },
     "execution_count": 53,
     "metadata": {
      "tags": []
     },
     "output_type": "execute_result"
    }
   ],
   "source": [
    "new_df.test_accuracy.mean()"
   ]
  },
  {
   "cell_type": "code",
   "execution_count": null,
   "metadata": {
    "id": "bREsvjuyu97n"
   },
   "outputs": [],
   "source": []
  }
 ],
 "metadata": {
  "colab": {
   "name": "LectureNotes_Naive_Bayes.ipynb",
   "provenance": [],
   "toc_visible": true
  },
  "kernelspec": {
   "display_name": "Python 3",
   "language": "python",
   "name": "python3"
  },
  "language_info": {
   "codemirror_mode": {
    "name": "ipython",
    "version": 3
   },
   "file_extension": ".py",
   "mimetype": "text/x-python",
   "name": "python",
   "nbconvert_exporter": "python",
   "pygments_lexer": "ipython3",
   "version": "3.8.10"
  }
 },
 "nbformat": 4,
 "nbformat_minor": 1
}
